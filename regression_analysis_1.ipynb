{
 "cells": [
  {
   "cell_type": "markdown",
   "metadata": {},
   "source": [
    "#### «Современные методы анализа и прогнозирования в международном бизнесе»\n",
    "#### Тема: «Регрессионный анализ»"
   ]
  },
  {
   "cell_type": "code",
   "execution_count": 267,
   "metadata": {},
   "outputs": [],
   "source": [
    "import pandas as pd\n",
    "import matplotlib.pyplot as plt\n",
    "import seaborn as sns\n",
    "import numpy as np\n",
    "import statsmodels.api as sm \n",
    "import statsmodels.formula.api as smf\n",
    "from statsmodels.formula.api import ols"
   ]
  },
  {
   "cell_type": "code",
   "execution_count": 226,
   "metadata": {},
   "outputs": [],
   "source": [
    "df=pd.read_csv('dataset.csv')"
   ]
  },
  {
   "cell_type": "markdown",
   "metadata": {},
   "source": [
    "## 1. Подготовка данных"
   ]
  },
  {
   "cell_type": "code",
   "execution_count": 228,
   "metadata": {},
   "outputs": [
    {
     "data": {
      "text/html": [
       "<div>\n",
       "<style scoped>\n",
       "    .dataframe tbody tr th:only-of-type {\n",
       "        vertical-align: middle;\n",
       "    }\n",
       "\n",
       "    .dataframe tbody tr th {\n",
       "        vertical-align: top;\n",
       "    }\n",
       "\n",
       "    .dataframe thead th {\n",
       "        text-align: right;\n",
       "    }\n",
       "</style>\n",
       "<table border=\"1\" class=\"dataframe\">\n",
       "  <thead>\n",
       "    <tr style=\"text-align: right;\">\n",
       "      <th></th>\n",
       "      <th>Suburb</th>\n",
       "      <th>Address</th>\n",
       "      <th>Rooms</th>\n",
       "      <th>Type</th>\n",
       "      <th>Price</th>\n",
       "      <th>Method</th>\n",
       "      <th>SellerG</th>\n",
       "      <th>Date</th>\n",
       "      <th>Distance</th>\n",
       "      <th>Postcode</th>\n",
       "      <th>...</th>\n",
       "      <th>Bathroom</th>\n",
       "      <th>Car</th>\n",
       "      <th>Landsize</th>\n",
       "      <th>BuildingArea</th>\n",
       "      <th>YearBuilt</th>\n",
       "      <th>CouncilArea</th>\n",
       "      <th>Lattitude</th>\n",
       "      <th>Longtitude</th>\n",
       "      <th>Regionname</th>\n",
       "      <th>Propertycount</th>\n",
       "    </tr>\n",
       "  </thead>\n",
       "  <tbody>\n",
       "    <tr>\n",
       "      <th>0</th>\n",
       "      <td>Abbotsford</td>\n",
       "      <td>68 Studley St</td>\n",
       "      <td>2</td>\n",
       "      <td>h</td>\n",
       "      <td>NaN</td>\n",
       "      <td>SS</td>\n",
       "      <td>Jellis</td>\n",
       "      <td>3/9/2016</td>\n",
       "      <td>2.5</td>\n",
       "      <td>3067.0</td>\n",
       "      <td>...</td>\n",
       "      <td>1.0</td>\n",
       "      <td>1.0</td>\n",
       "      <td>126.0</td>\n",
       "      <td>NaN</td>\n",
       "      <td>NaN</td>\n",
       "      <td>Yarra</td>\n",
       "      <td>-37.8014</td>\n",
       "      <td>144.9958</td>\n",
       "      <td>Northern Metropolitan</td>\n",
       "      <td>4019.0</td>\n",
       "    </tr>\n",
       "    <tr>\n",
       "      <th>1</th>\n",
       "      <td>Abbotsford</td>\n",
       "      <td>85 Turner St</td>\n",
       "      <td>2</td>\n",
       "      <td>h</td>\n",
       "      <td>1480000.0</td>\n",
       "      <td>S</td>\n",
       "      <td>Biggin</td>\n",
       "      <td>3/12/2016</td>\n",
       "      <td>2.5</td>\n",
       "      <td>3067.0</td>\n",
       "      <td>...</td>\n",
       "      <td>1.0</td>\n",
       "      <td>1.0</td>\n",
       "      <td>202.0</td>\n",
       "      <td>NaN</td>\n",
       "      <td>NaN</td>\n",
       "      <td>Yarra</td>\n",
       "      <td>-37.7996</td>\n",
       "      <td>144.9984</td>\n",
       "      <td>Northern Metropolitan</td>\n",
       "      <td>4019.0</td>\n",
       "    </tr>\n",
       "    <tr>\n",
       "      <th>2</th>\n",
       "      <td>Abbotsford</td>\n",
       "      <td>25 Bloomburg St</td>\n",
       "      <td>2</td>\n",
       "      <td>h</td>\n",
       "      <td>1035000.0</td>\n",
       "      <td>S</td>\n",
       "      <td>Biggin</td>\n",
       "      <td>4/2/2016</td>\n",
       "      <td>2.5</td>\n",
       "      <td>3067.0</td>\n",
       "      <td>...</td>\n",
       "      <td>1.0</td>\n",
       "      <td>0.0</td>\n",
       "      <td>156.0</td>\n",
       "      <td>79.0</td>\n",
       "      <td>1900.0</td>\n",
       "      <td>Yarra</td>\n",
       "      <td>-37.8079</td>\n",
       "      <td>144.9934</td>\n",
       "      <td>Northern Metropolitan</td>\n",
       "      <td>4019.0</td>\n",
       "    </tr>\n",
       "    <tr>\n",
       "      <th>3</th>\n",
       "      <td>Abbotsford</td>\n",
       "      <td>18/659 Victoria St</td>\n",
       "      <td>3</td>\n",
       "      <td>u</td>\n",
       "      <td>NaN</td>\n",
       "      <td>VB</td>\n",
       "      <td>Rounds</td>\n",
       "      <td>4/2/2016</td>\n",
       "      <td>2.5</td>\n",
       "      <td>3067.0</td>\n",
       "      <td>...</td>\n",
       "      <td>2.0</td>\n",
       "      <td>1.0</td>\n",
       "      <td>0.0</td>\n",
       "      <td>NaN</td>\n",
       "      <td>NaN</td>\n",
       "      <td>Yarra</td>\n",
       "      <td>-37.8114</td>\n",
       "      <td>145.0116</td>\n",
       "      <td>Northern Metropolitan</td>\n",
       "      <td>4019.0</td>\n",
       "    </tr>\n",
       "    <tr>\n",
       "      <th>4</th>\n",
       "      <td>Abbotsford</td>\n",
       "      <td>5 Charles St</td>\n",
       "      <td>3</td>\n",
       "      <td>h</td>\n",
       "      <td>1465000.0</td>\n",
       "      <td>SP</td>\n",
       "      <td>Biggin</td>\n",
       "      <td>4/3/2017</td>\n",
       "      <td>2.5</td>\n",
       "      <td>3067.0</td>\n",
       "      <td>...</td>\n",
       "      <td>2.0</td>\n",
       "      <td>0.0</td>\n",
       "      <td>134.0</td>\n",
       "      <td>150.0</td>\n",
       "      <td>1900.0</td>\n",
       "      <td>Yarra</td>\n",
       "      <td>-37.8093</td>\n",
       "      <td>144.9944</td>\n",
       "      <td>Northern Metropolitan</td>\n",
       "      <td>4019.0</td>\n",
       "    </tr>\n",
       "  </tbody>\n",
       "</table>\n",
       "<p>5 rows × 21 columns</p>\n",
       "</div>"
      ],
      "text/plain": [
       "       Suburb             Address  Rooms Type      Price Method SellerG  \\\n",
       "0  Abbotsford       68 Studley St      2    h        NaN     SS  Jellis   \n",
       "1  Abbotsford        85 Turner St      2    h  1480000.0      S  Biggin   \n",
       "2  Abbotsford     25 Bloomburg St      2    h  1035000.0      S  Biggin   \n",
       "3  Abbotsford  18/659 Victoria St      3    u        NaN     VB  Rounds   \n",
       "4  Abbotsford        5 Charles St      3    h  1465000.0     SP  Biggin   \n",
       "\n",
       "        Date  Distance  Postcode  ...  Bathroom  Car  Landsize  BuildingArea  \\\n",
       "0   3/9/2016       2.5    3067.0  ...       1.0  1.0     126.0           NaN   \n",
       "1  3/12/2016       2.5    3067.0  ...       1.0  1.0     202.0           NaN   \n",
       "2   4/2/2016       2.5    3067.0  ...       1.0  0.0     156.0          79.0   \n",
       "3   4/2/2016       2.5    3067.0  ...       2.0  1.0       0.0           NaN   \n",
       "4   4/3/2017       2.5    3067.0  ...       2.0  0.0     134.0         150.0   \n",
       "\n",
       "   YearBuilt  CouncilArea Lattitude  Longtitude             Regionname  \\\n",
       "0        NaN        Yarra  -37.8014    144.9958  Northern Metropolitan   \n",
       "1        NaN        Yarra  -37.7996    144.9984  Northern Metropolitan   \n",
       "2     1900.0        Yarra  -37.8079    144.9934  Northern Metropolitan   \n",
       "3        NaN        Yarra  -37.8114    145.0116  Northern Metropolitan   \n",
       "4     1900.0        Yarra  -37.8093    144.9944  Northern Metropolitan   \n",
       "\n",
       "  Propertycount  \n",
       "0        4019.0  \n",
       "1        4019.0  \n",
       "2        4019.0  \n",
       "3        4019.0  \n",
       "4        4019.0  \n",
       "\n",
       "[5 rows x 21 columns]"
      ]
     },
     "execution_count": 228,
     "metadata": {},
     "output_type": "execute_result"
    }
   ],
   "source": [
    "# посмотрим, как выглядит наша таблица\n",
    "df.head()"
   ]
  },
  {
   "cell_type": "markdown",
   "metadata": {},
   "source": [
    "Датасетом является таблица объектов недвижимости в Мельбурне. Она содержит следующие категории данных:\n",
    "\n",
    "\n",
    "Rooms: Количество комнат\n",
    "\n",
    "Price: Цена в долларах\n",
    "\n",
    "Method: S - проданная недвижимость; ИП - имущество, проданное ранее; ИП - имущество передано; PN - продано ранее, не разглашается; SN - продано не разглашается; NB - нет ставки; VB - заявка продавца; W - снято до аукциона; SA - продано после аукциона; СС - цена продана после аукциона не разглашается. N / A - цена или максимальная ставка недоступны.\n",
    "\n",
    "Type: br - спальня (и); h - дом, коттедж, вилла, полулюкс, терраса; u - блок, дуплекс; т - таунхаус; dev site - строительная площадка; o res - другие жилые.\n",
    "\n",
    "SellerG: Риелтор\n",
    "\n",
    "Date: Дата продажи\n",
    "\n",
    "Distance: дистанция от Центрального делового района Мельбурна\n",
    "\n",
    "Regionname: Общий регион (запад, северо-запад, север, северо-восток и т. Д.)\n",
    "\n",
    "Propertycount: Количество объектов недвижимости в районе.\n",
    "\n",
    "Bedroom2 : Количество спален (из разных источников)\n",
    "\n",
    "Bathroom: Количество ванных комнат\n",
    "\n",
    "Car: Количество парковочных мест\n",
    "\n",
    "Landsize: Размер земельного участка\n",
    "\n",
    "BuildingArea: Размер здания\n",
    "\n",
    "CouncilArea: Управляющий совет области"
   ]
  },
  {
   "cell_type": "code",
   "execution_count": 229,
   "metadata": {},
   "outputs": [
    {
     "name": "stdout",
     "output_type": "stream",
     "text": [
      "<class 'pandas.core.frame.DataFrame'>\n",
      "RangeIndex: 19740 entries, 0 to 19739\n",
      "Data columns (total 21 columns):\n",
      " #   Column         Non-Null Count  Dtype  \n",
      "---  ------         --------------  -----  \n",
      " 0   Suburb         19740 non-null  object \n",
      " 1   Address        19740 non-null  object \n",
      " 2   Rooms          19740 non-null  int64  \n",
      " 3   Type           19740 non-null  object \n",
      " 4   Price          15396 non-null  float64\n",
      " 5   Method         19740 non-null  object \n",
      " 6   SellerG        19740 non-null  object \n",
      " 7   Date           19740 non-null  object \n",
      " 8   Distance       19732 non-null  float64\n",
      " 9   Postcode       19732 non-null  float64\n",
      " 10  Bedroom2       15327 non-null  float64\n",
      " 11  Bathroom       15327 non-null  float64\n",
      " 12  Car            15327 non-null  float64\n",
      " 13  Landsize       14944 non-null  float64\n",
      " 14  BuildingArea   8617 non-null   float64\n",
      " 15  YearBuilt      9351 non-null   float64\n",
      " 16  CouncilArea    15296 non-null  object \n",
      " 17  Lattitude      15448 non-null  float64\n",
      " 18  Longtitude     15448 non-null  float64\n",
      " 19  Regionname     19732 non-null  object \n",
      " 20  Propertycount  19732 non-null  float64\n",
      "dtypes: float64(12), int64(1), object(8)\n",
      "memory usage: 3.2+ MB\n"
     ]
    }
   ],
   "source": [
    "# базовая информация о переменных-столбцах\n",
    "df.info()"
   ]
  },
  {
   "cell_type": "code",
   "execution_count": 230,
   "metadata": {},
   "outputs": [
    {
     "data": {
      "text/plain": [
       "(19740, 21)"
      ]
     },
     "execution_count": 230,
     "metadata": {},
     "output_type": "execute_result"
    }
   ],
   "source": [
    "# количество строк и столбцов\n",
    "df.shape"
   ]
  },
  {
   "cell_type": "markdown",
   "metadata": {},
   "source": [
    "### Обработка пустых и некорректных значений"
   ]
  },
  {
   "cell_type": "code",
   "execution_count": 231,
   "metadata": {},
   "outputs": [],
   "source": [
    "# удалим столбцы, которые не нужны для исследования - адрес, дата и почтовый индекс\n",
    "df=df.drop(['Address', 'Date','Postcode', 'Method', 'Suburb', 'SellerG', 'Suburb'], axis=1)"
   ]
  },
  {
   "cell_type": "code",
   "execution_count": 232,
   "metadata": {},
   "outputs": [],
   "source": [
    "# удалим строки, в которых есть значения nan\n",
    "df=df.dropna()"
   ]
  },
  {
   "cell_type": "code",
   "execution_count": 292,
   "metadata": {},
   "outputs": [
    {
     "data": {
      "text/plain": [
       "(6050, 15)"
      ]
     },
     "execution_count": 292,
     "metadata": {},
     "output_type": "execute_result"
    }
   ],
   "source": [
    "# таблица существенно уменьшилась, однако количество значений всё ещё достаточно для построения регрессии\n",
    "df.shape"
   ]
  },
  {
   "cell_type": "code",
   "execution_count": 234,
   "metadata": {},
   "outputs": [],
   "source": [
    "target=df['Price']"
   ]
  },
  {
   "cell_type": "code",
   "execution_count": 235,
   "metadata": {},
   "outputs": [
    {
     "data": {
      "text/plain": [
       "2        1035000.0\n",
       "4        1465000.0\n",
       "6        1600000.0\n",
       "11       1876000.0\n",
       "14       1636000.0\n",
       "           ...    \n",
       "19731     601000.0\n",
       "19734    1285000.0\n",
       "19737     750000.0\n",
       "19738    2450000.0\n",
       "19739     645000.0\n",
       "Name: Price, Length: 6050, dtype: float64"
      ]
     },
     "execution_count": 235,
     "metadata": {},
     "output_type": "execute_result"
    }
   ],
   "source": [
    "# записали переменную Price в отдельную переменную\n",
    "target"
   ]
  },
  {
   "cell_type": "code",
   "execution_count": 236,
   "metadata": {},
   "outputs": [
    {
     "data": {
      "text/plain": [
       "count    6.050000e+03\n",
       "mean     1.071520e+06\n",
       "std      6.744841e+05\n",
       "min      1.310000e+05\n",
       "25%      6.250000e+05\n",
       "50%      8.842500e+05\n",
       "75%      1.330000e+06\n",
       "max      9.000000e+06\n",
       "Name: Price, dtype: float64"
      ]
     },
     "execution_count": 236,
     "metadata": {},
     "output_type": "execute_result"
    }
   ],
   "source": [
    "# описательная статистика переменной прайс\n",
    "target.describe()"
   ]
  },
  {
   "cell_type": "code",
   "execution_count": 237,
   "metadata": {},
   "outputs": [
    {
     "name": "stdout",
     "output_type": "stream",
     "text": [
      "<class 'pandas.core.frame.DataFrame'>\n",
      "Int64Index: 6050 entries, 2 to 19739\n",
      "Data columns (total 15 columns):\n",
      " #   Column         Non-Null Count  Dtype  \n",
      "---  ------         --------------  -----  \n",
      " 0   Rooms          6050 non-null   int64  \n",
      " 1   Type           6050 non-null   object \n",
      " 2   Price          6050 non-null   float64\n",
      " 3   Distance       6050 non-null   float64\n",
      " 4   Bedroom2       6050 non-null   float64\n",
      " 5   Bathroom       6050 non-null   float64\n",
      " 6   Car            6050 non-null   float64\n",
      " 7   Landsize       6050 non-null   float64\n",
      " 8   BuildingArea   6050 non-null   float64\n",
      " 9   YearBuilt      6050 non-null   float64\n",
      " 10  CouncilArea    6050 non-null   object \n",
      " 11  Lattitude      6050 non-null   float64\n",
      " 12  Longtitude     6050 non-null   float64\n",
      " 13  Regionname     6050 non-null   object \n",
      " 14  Propertycount  6050 non-null   float64\n",
      "dtypes: float64(11), int64(1), object(3)\n",
      "memory usage: 756.2+ KB\n"
     ]
    }
   ],
   "source": [
    "df.info()"
   ]
  },
  {
   "cell_type": "markdown",
   "metadata": {},
   "source": [
    "### Подготовка данных"
   ]
  },
  {
   "cell_type": "markdown",
   "metadata": {},
   "source": [
    "В датасете есть три объектных поля, которые стоит заменить числеными обозначениями:"
   ]
  },
  {
   "cell_type": "code",
   "execution_count": 238,
   "metadata": {},
   "outputs": [
    {
     "data": {
      "text/plain": [
       "array(['h', 'u', 't'], dtype=object)"
      ]
     },
     "execution_count": 238,
     "metadata": {},
     "output_type": "execute_result"
    }
   ],
   "source": [
    "df['Type'].unique()"
   ]
  },
  {
   "cell_type": "code",
   "execution_count": 239,
   "metadata": {},
   "outputs": [
    {
     "data": {
      "text/plain": [
       "array(['Yarra', 'Moonee Valley', 'Port Phillip', 'Darebin', 'Hobsons Bay',\n",
       "       'Stonnington', 'Boroondara', 'Monash', 'Glen Eira', 'Whitehorse',\n",
       "       'Maribyrnong', 'Bayside', 'Moreland', 'Manningham', 'Banyule',\n",
       "       'Kingston', 'Brimbank', 'Melbourne', 'Hume', 'Knox', 'Melton',\n",
       "       'Maroondah', 'Greater Dandenong', 'Nillumbik', 'Whittlesea',\n",
       "       'Frankston', 'Macedon Ranges', 'Yarra Ranges', 'Wyndham', 'Casey',\n",
       "       'Cardinia'], dtype=object)"
      ]
     },
     "execution_count": 239,
     "metadata": {},
     "output_type": "execute_result"
    }
   ],
   "source": [
    "df['CouncilArea'].unique()"
   ]
  },
  {
   "cell_type": "code",
   "execution_count": 240,
   "metadata": {},
   "outputs": [
    {
     "data": {
      "text/plain": [
       "array(['Northern Metropolitan', 'Western Metropolitan',\n",
       "       'Southern Metropolitan', 'Eastern Metropolitan',\n",
       "       'South-Eastern Metropolitan', 'Northern Victoria',\n",
       "       'Eastern Victoria', 'Western Victoria'], dtype=object)"
      ]
     },
     "execution_count": 240,
     "metadata": {},
     "output_type": "execute_result"
    }
   ],
   "source": [
    "df['Regionname'].unique()"
   ]
  },
  {
   "cell_type": "markdown",
   "metadata": {},
   "source": [
    "Введем для этих значений данных переменных следующие обозначения:"
   ]
  },
  {
   "cell_type": "code",
   "execution_count": 241,
   "metadata": {},
   "outputs": [],
   "source": [
    "cleanup_nums = {\"Regionname\": { \n",
    "                    'Northern Metropolitan': 1, \n",
    "                    'Western Metropolitan': 2,\n",
    "                    'Southern Metropolitan': 3, \n",
    "                    'Eastern Metropolitan': 4,\n",
    "                    'South-Eastern Metropolitan': 5, \n",
    "                    'Northern Victoria': 6,\n",
    "                    'Eastern Victoria': 7, \n",
    "                    'Western Victoria': 8},\n",
    "                'CouncilArea': {\n",
    "                    'Yarra': 1, \n",
    "                    'Moonee Valley': 2, \n",
    "                    'Port Phillip': 3, \n",
    "                    'Darebin': 4, \n",
    "                    'Hobsons Bay': 5,\n",
    "                    'Stonnington': 6, \n",
    "                    'Boroondara': 7, \n",
    "                    'Monash': 8, \n",
    "                    'Glen Eira': 9, \n",
    "                    'Whitehorse': 10,\n",
    "                    'Maribyrnong': 11, \n",
    "                    'Bayside': 12, \n",
    "                    'Moreland': 13, \n",
    "                    'Manningham': 14, \n",
    "                    'Banyule': 15,\n",
    "                    'Kingston': 16, \n",
    "                    'Brimbank': 17, \n",
    "                    'Melbourne': 18, \n",
    "                    'Hume': 19, \n",
    "                    'Knox': 20, \n",
    "                    'Melton': 20,\n",
    "                    'Maroondah': 21, \n",
    "                    'Greater Dandenong': 22, \n",
    "                    'Nillumbik': 23, \n",
    "                    'Whittlesea': 24,\n",
    "                    'Frankston': 25, \n",
    "                    'Macedon Ranges': 26, \n",
    "                    'Yarra Ranges': 27, \n",
    "                    'Wyndham': 28, \n",
    "                    'Casey': 29, \n",
    "                    'Cardinia': 30}, \n",
    "                'Type': {\n",
    "                    'h': 1, \n",
    "                    'u': 2, \n",
    "                    't': 3}}"
   ]
  },
  {
   "cell_type": "code",
   "execution_count": 242,
   "metadata": {},
   "outputs": [
    {
     "data": {
      "text/html": [
       "<div>\n",
       "<style scoped>\n",
       "    .dataframe tbody tr th:only-of-type {\n",
       "        vertical-align: middle;\n",
       "    }\n",
       "\n",
       "    .dataframe tbody tr th {\n",
       "        vertical-align: top;\n",
       "    }\n",
       "\n",
       "    .dataframe thead th {\n",
       "        text-align: right;\n",
       "    }\n",
       "</style>\n",
       "<table border=\"1\" class=\"dataframe\">\n",
       "  <thead>\n",
       "    <tr style=\"text-align: right;\">\n",
       "      <th></th>\n",
       "      <th>Type</th>\n",
       "      <th>CouncilArea</th>\n",
       "      <th>Regionname</th>\n",
       "    </tr>\n",
       "  </thead>\n",
       "  <tbody>\n",
       "    <tr>\n",
       "      <th>2</th>\n",
       "      <td>h</td>\n",
       "      <td>Yarra</td>\n",
       "      <td>Northern Metropolitan</td>\n",
       "    </tr>\n",
       "    <tr>\n",
       "      <th>4</th>\n",
       "      <td>h</td>\n",
       "      <td>Yarra</td>\n",
       "      <td>Northern Metropolitan</td>\n",
       "    </tr>\n",
       "    <tr>\n",
       "      <th>6</th>\n",
       "      <td>h</td>\n",
       "      <td>Yarra</td>\n",
       "      <td>Northern Metropolitan</td>\n",
       "    </tr>\n",
       "    <tr>\n",
       "      <th>11</th>\n",
       "      <td>h</td>\n",
       "      <td>Yarra</td>\n",
       "      <td>Northern Metropolitan</td>\n",
       "    </tr>\n",
       "    <tr>\n",
       "      <th>14</th>\n",
       "      <td>h</td>\n",
       "      <td>Yarra</td>\n",
       "      <td>Northern Metropolitan</td>\n",
       "    </tr>\n",
       "    <tr>\n",
       "      <th>...</th>\n",
       "      <td>...</td>\n",
       "      <td>...</td>\n",
       "      <td>...</td>\n",
       "    </tr>\n",
       "    <tr>\n",
       "      <th>19731</th>\n",
       "      <td>h</td>\n",
       "      <td>Manningham</td>\n",
       "      <td>Northern Victoria</td>\n",
       "    </tr>\n",
       "    <tr>\n",
       "      <th>19734</th>\n",
       "      <td>h</td>\n",
       "      <td>Whittlesea</td>\n",
       "      <td>Western Metropolitan</td>\n",
       "    </tr>\n",
       "    <tr>\n",
       "      <th>19737</th>\n",
       "      <td>h</td>\n",
       "      <td>Darebin</td>\n",
       "      <td>Western Metropolitan</td>\n",
       "    </tr>\n",
       "    <tr>\n",
       "      <th>19738</th>\n",
       "      <td>h</td>\n",
       "      <td>Hume</td>\n",
       "      <td>Western Metropolitan</td>\n",
       "    </tr>\n",
       "    <tr>\n",
       "      <th>19739</th>\n",
       "      <td>t</td>\n",
       "      <td>Hume</td>\n",
       "      <td>Western Metropolitan</td>\n",
       "    </tr>\n",
       "  </tbody>\n",
       "</table>\n",
       "<p>6050 rows × 3 columns</p>\n",
       "</div>"
      ],
      "text/plain": [
       "      Type CouncilArea             Regionname\n",
       "2        h       Yarra  Northern Metropolitan\n",
       "4        h       Yarra  Northern Metropolitan\n",
       "6        h       Yarra  Northern Metropolitan\n",
       "11       h       Yarra  Northern Metropolitan\n",
       "14       h       Yarra  Northern Metropolitan\n",
       "...    ...         ...                    ...\n",
       "19731    h  Manningham      Northern Victoria\n",
       "19734    h  Whittlesea   Western Metropolitan\n",
       "19737    h     Darebin   Western Metropolitan\n",
       "19738    h        Hume   Western Metropolitan\n",
       "19739    t        Hume   Western Metropolitan\n",
       "\n",
       "[6050 rows x 3 columns]"
      ]
     },
     "execution_count": 242,
     "metadata": {},
     "output_type": "execute_result"
    }
   ],
   "source": [
    "obj_df = df.select_dtypes(include=['object'])\n",
    "obj_df"
   ]
  },
  {
   "cell_type": "code",
   "execution_count": 243,
   "metadata": {},
   "outputs": [],
   "source": [
    "obj_df = obj_df.replace(cleanup_nums)"
   ]
  },
  {
   "cell_type": "code",
   "execution_count": 244,
   "metadata": {
    "scrolled": false
   },
   "outputs": [
    {
     "data": {
      "text/html": [
       "<div>\n",
       "<style scoped>\n",
       "    .dataframe tbody tr th:only-of-type {\n",
       "        vertical-align: middle;\n",
       "    }\n",
       "\n",
       "    .dataframe tbody tr th {\n",
       "        vertical-align: top;\n",
       "    }\n",
       "\n",
       "    .dataframe thead th {\n",
       "        text-align: right;\n",
       "    }\n",
       "</style>\n",
       "<table border=\"1\" class=\"dataframe\">\n",
       "  <thead>\n",
       "    <tr style=\"text-align: right;\">\n",
       "      <th></th>\n",
       "      <th>Types</th>\n",
       "      <th>Area</th>\n",
       "      <th>Region</th>\n",
       "    </tr>\n",
       "  </thead>\n",
       "  <tbody>\n",
       "    <tr>\n",
       "      <th>2</th>\n",
       "      <td>1</td>\n",
       "      <td>1</td>\n",
       "      <td>1</td>\n",
       "    </tr>\n",
       "    <tr>\n",
       "      <th>4</th>\n",
       "      <td>1</td>\n",
       "      <td>1</td>\n",
       "      <td>1</td>\n",
       "    </tr>\n",
       "    <tr>\n",
       "      <th>6</th>\n",
       "      <td>1</td>\n",
       "      <td>1</td>\n",
       "      <td>1</td>\n",
       "    </tr>\n",
       "    <tr>\n",
       "      <th>11</th>\n",
       "      <td>1</td>\n",
       "      <td>1</td>\n",
       "      <td>1</td>\n",
       "    </tr>\n",
       "    <tr>\n",
       "      <th>14</th>\n",
       "      <td>1</td>\n",
       "      <td>1</td>\n",
       "      <td>1</td>\n",
       "    </tr>\n",
       "    <tr>\n",
       "      <th>...</th>\n",
       "      <td>...</td>\n",
       "      <td>...</td>\n",
       "      <td>...</td>\n",
       "    </tr>\n",
       "    <tr>\n",
       "      <th>19731</th>\n",
       "      <td>1</td>\n",
       "      <td>14</td>\n",
       "      <td>6</td>\n",
       "    </tr>\n",
       "    <tr>\n",
       "      <th>19734</th>\n",
       "      <td>1</td>\n",
       "      <td>24</td>\n",
       "      <td>2</td>\n",
       "    </tr>\n",
       "    <tr>\n",
       "      <th>19737</th>\n",
       "      <td>1</td>\n",
       "      <td>4</td>\n",
       "      <td>2</td>\n",
       "    </tr>\n",
       "    <tr>\n",
       "      <th>19738</th>\n",
       "      <td>1</td>\n",
       "      <td>19</td>\n",
       "      <td>2</td>\n",
       "    </tr>\n",
       "    <tr>\n",
       "      <th>19739</th>\n",
       "      <td>3</td>\n",
       "      <td>19</td>\n",
       "      <td>2</td>\n",
       "    </tr>\n",
       "  </tbody>\n",
       "</table>\n",
       "<p>6050 rows × 3 columns</p>\n",
       "</div>"
      ],
      "text/plain": [
       "       Types  Area  Region\n",
       "2          1     1       1\n",
       "4          1     1       1\n",
       "6          1     1       1\n",
       "11         1     1       1\n",
       "14         1     1       1\n",
       "...      ...   ...     ...\n",
       "19731      1    14       6\n",
       "19734      1    24       2\n",
       "19737      1     4       2\n",
       "19738      1    19       2\n",
       "19739      3    19       2\n",
       "\n",
       "[6050 rows x 3 columns]"
      ]
     },
     "execution_count": 244,
     "metadata": {},
     "output_type": "execute_result"
    }
   ],
   "source": [
    "obj_df = obj_df.rename(columns={'Type': 'Types', 'CouncilArea': 'Area', 'Regionname': 'Region'}) \n",
    "obj_df"
   ]
  },
  {
   "cell_type": "code",
   "execution_count": 245,
   "metadata": {
    "scrolled": true
   },
   "outputs": [
    {
     "data": {
      "text/html": [
       "<div>\n",
       "<style scoped>\n",
       "    .dataframe tbody tr th:only-of-type {\n",
       "        vertical-align: middle;\n",
       "    }\n",
       "\n",
       "    .dataframe tbody tr th {\n",
       "        vertical-align: top;\n",
       "    }\n",
       "\n",
       "    .dataframe thead th {\n",
       "        text-align: right;\n",
       "    }\n",
       "</style>\n",
       "<table border=\"1\" class=\"dataframe\">\n",
       "  <thead>\n",
       "    <tr style=\"text-align: right;\">\n",
       "      <th></th>\n",
       "      <th>Rooms</th>\n",
       "      <th>Price</th>\n",
       "      <th>Distance</th>\n",
       "      <th>Bedroom2</th>\n",
       "      <th>Bathroom</th>\n",
       "      <th>Car</th>\n",
       "      <th>Landsize</th>\n",
       "      <th>BuildingArea</th>\n",
       "      <th>YearBuilt</th>\n",
       "      <th>Lattitude</th>\n",
       "      <th>Longtitude</th>\n",
       "      <th>Propertycount</th>\n",
       "      <th>Types</th>\n",
       "      <th>Area</th>\n",
       "      <th>Region</th>\n",
       "    </tr>\n",
       "  </thead>\n",
       "  <tbody>\n",
       "    <tr>\n",
       "      <th>2</th>\n",
       "      <td>2</td>\n",
       "      <td>1035000.0</td>\n",
       "      <td>2.5</td>\n",
       "      <td>2.0</td>\n",
       "      <td>1.0</td>\n",
       "      <td>0.0</td>\n",
       "      <td>156.0</td>\n",
       "      <td>79.0</td>\n",
       "      <td>1900.0</td>\n",
       "      <td>-37.8079</td>\n",
       "      <td>144.9934</td>\n",
       "      <td>4019.0</td>\n",
       "      <td>1</td>\n",
       "      <td>1</td>\n",
       "      <td>1</td>\n",
       "    </tr>\n",
       "    <tr>\n",
       "      <th>4</th>\n",
       "      <td>3</td>\n",
       "      <td>1465000.0</td>\n",
       "      <td>2.5</td>\n",
       "      <td>3.0</td>\n",
       "      <td>2.0</td>\n",
       "      <td>0.0</td>\n",
       "      <td>134.0</td>\n",
       "      <td>150.0</td>\n",
       "      <td>1900.0</td>\n",
       "      <td>-37.8093</td>\n",
       "      <td>144.9944</td>\n",
       "      <td>4019.0</td>\n",
       "      <td>1</td>\n",
       "      <td>1</td>\n",
       "      <td>1</td>\n",
       "    </tr>\n",
       "    <tr>\n",
       "      <th>6</th>\n",
       "      <td>4</td>\n",
       "      <td>1600000.0</td>\n",
       "      <td>2.5</td>\n",
       "      <td>3.0</td>\n",
       "      <td>1.0</td>\n",
       "      <td>2.0</td>\n",
       "      <td>120.0</td>\n",
       "      <td>142.0</td>\n",
       "      <td>2014.0</td>\n",
       "      <td>-37.8072</td>\n",
       "      <td>144.9941</td>\n",
       "      <td>4019.0</td>\n",
       "      <td>1</td>\n",
       "      <td>1</td>\n",
       "      <td>1</td>\n",
       "    </tr>\n",
       "  </tbody>\n",
       "</table>\n",
       "</div>"
      ],
      "text/plain": [
       "   Rooms      Price  Distance  Bedroom2  Bathroom  Car  Landsize  \\\n",
       "2      2  1035000.0       2.5       2.0       1.0  0.0     156.0   \n",
       "4      3  1465000.0       2.5       3.0       2.0  0.0     134.0   \n",
       "6      4  1600000.0       2.5       3.0       1.0  2.0     120.0   \n",
       "\n",
       "   BuildingArea  YearBuilt  Lattitude  Longtitude  Propertycount  Types  Area  \\\n",
       "2          79.0     1900.0   -37.8079    144.9934         4019.0      1     1   \n",
       "4         150.0     1900.0   -37.8093    144.9944         4019.0      1     1   \n",
       "6         142.0     2014.0   -37.8072    144.9941         4019.0      1     1   \n",
       "\n",
       "   Region  \n",
       "2       1  \n",
       "4       1  \n",
       "6       1  "
      ]
     },
     "execution_count": 245,
     "metadata": {},
     "output_type": "execute_result"
    }
   ],
   "source": [
    "# Заменим столбцы в оригинальном датафрейме на измененные\n",
    "df['Types']= obj_df['Types']\n",
    "df['Area']= obj_df['Area']\n",
    "df['Region']= obj_df['Region']\n",
    "df=df.drop(['Type', 'CouncilArea','Regionname'], axis=1).copy()\n",
    "df.head(3)\n"
   ]
  },
  {
   "cell_type": "markdown",
   "metadata": {},
   "source": [
    "Теперь в таблице остались только значения числовых типов"
   ]
  },
  {
   "cell_type": "markdown",
   "metadata": {},
   "source": [
    "## 2. Гипотезы"
   ]
  },
  {
   "cell_type": "markdown",
   "metadata": {},
   "source": [
    "Прежде всего стоит построить тепловую карту корреяций между переменными с целью обнаружения предметов исследования"
   ]
  },
  {
   "cell_type": "code",
   "execution_count": 259,
   "metadata": {
    "scrolled": false
   },
   "outputs": [
    {
     "data": {
      "text/plain": [
       "<AxesSubplot:>"
      ]
     },
     "execution_count": 259,
     "metadata": {},
     "output_type": "execute_result"
    },
    {
     "data": {
      "image/png": "[encoded data removed]",
      "text/plain": [
       "<Figure size 1080x1080 with 2 Axes>"
      ]
     },
     "metadata": {},
     "output_type": "display_data"
    }
   ],
   "source": [
    "sns.set(rc={'figure.figsize':(15, 15)})\n",
    "sns.heatmap(df.corr(), cbar=True, annot=True)"
   ]
  },
  {
   "cell_type": "markdown",
   "metadata": {},
   "source": [
    "#### Гипотеза №:1 цена коррелирует с количеством комнат"
   ]
  },
  {
   "cell_type": "markdown",
   "metadata": {},
   "source": [
    "Начнем с очевидного предположения - чем выше количество комнат в доме/квартире - тем выше цена. На тепловой карте видно, насколько высока корреляция между этими параметрами."
   ]
  },
  {
   "cell_type": "markdown",
   "metadata": {},
   "source": [
    "#### Гипотеза №:2 количество парковочных мест напрямую коррелирует с количеством комнат"
   ]
  },
  {
   "cell_type": "markdown",
   "metadata": {},
   "source": [
    "В транспортной экосистеме австралии большую роль играют личные автомобили. Логично предполагать, что чем более вместительный дом - тем больше автомобилей должно быть помещено в на парковочных местах."
   ]
  },
  {
   "cell_type": "markdown",
   "metadata": {},
   "source": [
    "#### Гипотеза №:3 Количесво недвижимости возраствает с запада на восток и с юга на север"
   ]
  },
  {
   "cell_type": "markdown",
   "metadata": {},
   "source": [
    "Так как Мельбурн \"огибает\" залив Порт-Филлип, находящийся к северо-западу от центра, справедливо предположить, что фонд недвижимости далее вглубь континента богаче."
   ]
  },
  {
   "cell_type": "markdown",
   "metadata": {},
   "source": [
    "### Проверка гипотез и анализ"
   ]
  },
  {
   "cell_type": "markdown",
   "metadata": {},
   "source": [
    "#### Гипотеза №:1 цена коррелирует с количеством комнат"
   ]
  },
  {
   "cell_type": "code",
   "execution_count": 353,
   "metadata": {
    "scrolled": true
   },
   "outputs": [
    {
     "data": {
      "text/plain": [
       "1     322\n",
       "2    1700\n",
       "3    2495\n",
       "4    1223\n",
       "5     272\n",
       "6      29\n",
       "7       6\n",
       "8       3\n",
       "Name: Rooms, dtype: int64"
      ]
     },
     "execution_count": 353,
     "metadata": {},
     "output_type": "execute_result"
    }
   ],
   "source": [
    "# Проверим, достаточно ли значений для статистики\n",
    "df['Rooms'].value_counts().sort_index()"
   ]
  },
  {
   "cell_type": "markdown",
   "metadata": {},
   "source": [
    "Так как строк с кол-вом комнат 6, 7, 8 недостаточно для убедительной статистики, исключим эти строки"
   ]
  },
  {
   "cell_type": "code",
   "execution_count": 296,
   "metadata": {},
   "outputs": [],
   "source": [
    "df_rooms = df.loc[df['Rooms']<=5]"
   ]
  },
  {
   "cell_type": "markdown",
   "metadata": {},
   "source": [
    "Прежде всего стоит построить график, чтобы понять с чем мы имеем дело"
   ]
  },
  {
   "cell_type": "code",
   "execution_count": 297,
   "metadata": {},
   "outputs": [
    {
     "data": {
      "text/plain": [
       "<seaborn.axisgrid.FacetGrid at 0x25d5f6b3550>"
      ]
     },
     "execution_count": 297,
     "metadata": {},
     "output_type": "execute_result"
    },
    {
     "data": {
      "image/png": "[encoded data removed]",
      "text/plain": [
       "<Figure size 360x360 with 1 Axes>"
      ]
     },
     "metadata": {},
     "output_type": "display_data"
    }
   ],
   "source": [
    "sns.relplot(x='Rooms', y='Price', kind=\"line\", data=df_rooms)"
   ]
  },
  {
   "cell_type": "markdown",
   "metadata": {},
   "source": [
    "Теперь построим регрессию:"
   ]
  },
  {
   "cell_type": "code",
   "execution_count": 298,
   "metadata": {
    "scrolled": false
   },
   "outputs": [
    {
     "data": {
      "text/html": [
       "<table class=\"simpletable\">\n",
       "<caption>OLS Regression Results</caption>\n",
       "<tr>\n",
       "  <th>Dep. Variable:</th>          <td>Price</td>      <th>  R-squared:         </th> <td>   0.289</td> \n",
       "</tr>\n",
       "<tr>\n",
       "  <th>Model:</th>                   <td>OLS</td>       <th>  Adj. R-squared:    </th> <td>   0.289</td> \n",
       "</tr>\n",
       "<tr>\n",
       "  <th>Method:</th>             <td>Least Squares</td>  <th>  F-statistic:       </th> <td>   2443.</td> \n",
       "</tr>\n",
       "<tr>\n",
       "  <th>Date:</th>             <td>Wed, 17 Nov 2021</td> <th>  Prob (F-statistic):</th>  <td>  0.00</td>  \n",
       "</tr>\n",
       "<tr>\n",
       "  <th>Time:</th>                 <td>04:33:49</td>     <th>  Log-Likelihood:    </th> <td> -88100.</td> \n",
       "</tr>\n",
       "<tr>\n",
       "  <th>No. Observations:</th>      <td>  6012</td>      <th>  AIC:               </th> <td>1.762e+05</td>\n",
       "</tr>\n",
       "<tr>\n",
       "  <th>Df Residuals:</th>          <td>  6010</td>      <th>  BIC:               </th> <td>1.762e+05</td>\n",
       "</tr>\n",
       "<tr>\n",
       "  <th>Df Model:</th>              <td>     1</td>      <th>                     </th>     <td> </td>    \n",
       "</tr>\n",
       "<tr>\n",
       "  <th>Covariance Type:</th>      <td>nonrobust</td>    <th>                     </th>     <td> </td>    \n",
       "</tr>\n",
       "</table>\n",
       "<table class=\"simpletable\">\n",
       "<tr>\n",
       "      <td></td>         <th>coef</th>     <th>std err</th>      <th>t</th>      <th>P>|t|</th>  <th>[0.025</th>    <th>0.975]</th>  \n",
       "</tr>\n",
       "<tr>\n",
       "  <th>Intercept</th> <td>-4.376e+04</td> <td> 2.36e+04</td> <td>   -1.856</td> <td> 0.064</td> <td>   -9e+04</td> <td> 2462.409</td>\n",
       "</tr>\n",
       "<tr>\n",
       "  <th>Rooms</th>     <td> 3.821e+05</td> <td> 7729.765</td> <td>   49.430</td> <td> 0.000</td> <td> 3.67e+05</td> <td> 3.97e+05</td>\n",
       "</tr>\n",
       "</table>\n",
       "<table class=\"simpletable\">\n",
       "<tr>\n",
       "  <th>Omnibus:</th>       <td>3639.254</td> <th>  Durbin-Watson:     </th> <td>   1.329</td> \n",
       "</tr>\n",
       "<tr>\n",
       "  <th>Prob(Omnibus):</th>  <td> 0.000</td>  <th>  Jarque-Bera (JB):  </th> <td>80280.501</td>\n",
       "</tr>\n",
       "<tr>\n",
       "  <th>Skew:</th>           <td> 2.488</td>  <th>  Prob(JB):          </th> <td>    0.00</td> \n",
       "</tr>\n",
       "<tr>\n",
       "  <th>Kurtosis:</th>       <td>20.196</td>  <th>  Cond. No.          </th> <td>    10.9</td> \n",
       "</tr>\n",
       "</table><br/><br/>Notes:<br/>[1] Standard Errors assume that the covariance matrix of the errors is correctly specified."
      ],
      "text/plain": [
       "<class 'statsmodels.iolib.summary.Summary'>\n",
       "\"\"\"\n",
       "                            OLS Regression Results                            \n",
       "==============================================================================\n",
       "Dep. Variable:                  Price   R-squared:                       0.289\n",
       "Model:                            OLS   Adj. R-squared:                  0.289\n",
       "Method:                 Least Squares   F-statistic:                     2443.\n",
       "Date:                Wed, 17 Nov 2021   Prob (F-statistic):               0.00\n",
       "Time:                        04:33:49   Log-Likelihood:                -88100.\n",
       "No. Observations:                6012   AIC:                         1.762e+05\n",
       "Df Residuals:                    6010   BIC:                         1.762e+05\n",
       "Df Model:                           1                                         \n",
       "Covariance Type:            nonrobust                                         \n",
       "==============================================================================\n",
       "                 coef    std err          t      P>|t|      [0.025      0.975]\n",
       "------------------------------------------------------------------------------\n",
       "Intercept  -4.376e+04   2.36e+04     -1.856      0.064      -9e+04    2462.409\n",
       "Rooms       3.821e+05   7729.765     49.430      0.000    3.67e+05    3.97e+05\n",
       "==============================================================================\n",
       "Omnibus:                     3639.254   Durbin-Watson:                   1.329\n",
       "Prob(Omnibus):                  0.000   Jarque-Bera (JB):            80280.501\n",
       "Skew:                           2.488   Prob(JB):                         0.00\n",
       "Kurtosis:                      20.196   Cond. No.                         10.9\n",
       "==============================================================================\n",
       "\n",
       "Notes:\n",
       "[1] Standard Errors assume that the covariance matrix of the errors is correctly specified.\n",
       "\"\"\""
      ]
     },
     "execution_count": 298,
     "metadata": {},
     "output_type": "execute_result"
    }
   ],
   "source": [
    "fit = ols('Price ~ Rooms', data=df_rooms).fit() \n",
    "fit.summary()"
   ]
  },
  {
   "cell_type": "markdown",
   "metadata": {},
   "source": [
    "Из полученных значений можно заключить следующее:\n",
    "1. Значение Prob(Omnibus) = 0, что указывает на то, что остатки не распределены нормально.\n",
    "2. Высокое значение Omnibus указывает на асимметрию, уже обнаруженную визуально на графике.\n",
    "4. Durbin-Watson ~ 1.3 указывает на то, что гомоскедастичность соблюдена. Это означает, что дисперсия ошибок близка к постоянной. Однако, присутствует слабая положительная автокорреляция.\n",
    "3. Высокий положительный Skew указывает на то, что нормальное остаточное распределение не соблюдается и свидетельствует о более \"толстом хвосте\" справа, что так же подтверждается графиком выше.\n",
    "5. Высокий показатель Jaque-Bera теста так же свидетельствует об отстутствии нормального распределения остатков."
   ]
  },
  {
   "cell_type": "code",
   "execution_count": 352,
   "metadata": {},
   "outputs": [
    {
     "name": "stdout",
     "output_type": "stream",
     "text": [
      "средняя наценка за 2-ю комнату:\t307793\n",
      "средняя наценка за 3-ю комнату:\t346542\n",
      "средняя наценка за 4-ю комнату:\t416184\n",
      "средняя наценка за 5-ю комнату:\t481706\n"
     ]
    }
   ],
   "source": [
    "# найдем наценки за кол-во комнат\n",
    "temp = [df.loc[df['Rooms']==i]['Price'].mean() for i in range(1,6)]\n",
    "values = []\n",
    "keys = [\"средняя наценка за 2-ю комнату:\",\"средняя наценка за 3-ю комнату:\",\"средняя наценка за 4-ю комнату:\",\"средняя наценка за 5-ю комнату:\"]\n",
    "\n",
    "for i in range(1,5):\n",
    "    values.append(round(temp[i]-temp[i-1]))\n",
    "\n",
    "print(\"\\n\".join(\"{}\\t{}\".format(k, v) for k, v in dict(zip(keys, values)).items()))"
   ]
  },
  {
   "cell_type": "markdown",
   "metadata": {},
   "source": [
    "Заключение:\n",
    "1. Гипотеза подтверждена - цена прямо зависима от количества комнат в доме/квартире, дополнительная комната обойдется покупателям в среднем в 300 000 - 500 000 долларов.\n",
    "2. Интересно заметить, что  разброс цен на дома возрастает с повышением кол-ва комнат.\n",
    "3. Бизнес в сфере продажи недвижимости может использовать информацию о наценке на комнаты при определении ценовой политики и оценивании домов."
   ]
  },
  {
   "cell_type": "markdown",
   "metadata": {},
   "source": [
    "#### Гипотеза №:2 количество парковочных мест напрямую коррелирует с количеством комнат"
   ]
  },
  {
   "cell_type": "markdown",
   "metadata": {},
   "source": [
    "Так как строк с кол-вом комнат 7, 8, 9 недостаточно для убедительной статистики, исключим эти строки"
   ]
  },
  {
   "cell_type": "code",
   "execution_count": 299,
   "metadata": {
    "scrolled": false
   },
   "outputs": [
    {
     "data": {
      "text/plain": [
       "<seaborn.axisgrid.FacetGrid at 0x25d21d3cfa0>"
      ]
     },
     "execution_count": 299,
     "metadata": {},
     "output_type": "execute_result"
    },
    {
     "data": {
      "image/png": "[encoded data removed]",
      "text/plain": [
       "<Figure size 360x360 with 1 Axes>"
      ]
     },
     "metadata": {},
     "output_type": "display_data"
    }
   ],
   "source": [
    "sns.set(rc={'figure.figsize':(15, 9)})\n",
    "sns.relplot(x='Rooms', y='Car', kind=\"line\", data=df_rooms)"
   ]
  },
  {
   "cell_type": "markdown",
   "metadata": {},
   "source": [
    "Как мы видим, из графика очевидна прямая зависимость между количеством парковочных мест и комнат, теперь стоит построить регрессию"
   ]
  },
  {
   "cell_type": "code",
   "execution_count": 300,
   "metadata": {
    "scrolled": false
   },
   "outputs": [
    {
     "data": {
      "text/html": [
       "<table class=\"simpletable\">\n",
       "<caption>OLS Regression Results</caption>\n",
       "<tr>\n",
       "  <th>Dep. Variable:</th>          <td>Price</td>      <th>  R-squared:         </th> <td>   0.058</td> \n",
       "</tr>\n",
       "<tr>\n",
       "  <th>Model:</th>                   <td>OLS</td>       <th>  Adj. R-squared:    </th> <td>   0.058</td> \n",
       "</tr>\n",
       "<tr>\n",
       "  <th>Method:</th>             <td>Least Squares</td>  <th>  F-statistic:       </th> <td>   373.0</td> \n",
       "</tr>\n",
       "<tr>\n",
       "  <th>Date:</th>             <td>Wed, 17 Nov 2021</td> <th>  Prob (F-statistic):</th> <td>1.10e-80</td> \n",
       "</tr>\n",
       "<tr>\n",
       "  <th>Time:</th>                 <td>04:35:32</td>     <th>  Log-Likelihood:    </th> <td> -88944.</td> \n",
       "</tr>\n",
       "<tr>\n",
       "  <th>No. Observations:</th>      <td>  6012</td>      <th>  AIC:               </th> <td>1.779e+05</td>\n",
       "</tr>\n",
       "<tr>\n",
       "  <th>Df Residuals:</th>          <td>  6010</td>      <th>  BIC:               </th> <td>1.779e+05</td>\n",
       "</tr>\n",
       "<tr>\n",
       "  <th>Df Model:</th>              <td>     1</td>      <th>                     </th>     <td> </td>    \n",
       "</tr>\n",
       "<tr>\n",
       "  <th>Covariance Type:</th>      <td>nonrobust</td>    <th>                     </th>     <td> </td>    \n",
       "</tr>\n",
       "</table>\n",
       "<table class=\"simpletable\">\n",
       "<tr>\n",
       "      <td></td>         <th>coef</th>     <th>std err</th>      <th>t</th>      <th>P>|t|</th>  <th>[0.025</th>    <th>0.975]</th>  \n",
       "</tr>\n",
       "<tr>\n",
       "  <th>Intercept</th> <td> 7.957e+05</td> <td> 1.63e+04</td> <td>   48.922</td> <td> 0.000</td> <td> 7.64e+05</td> <td> 8.28e+05</td>\n",
       "</tr>\n",
       "<tr>\n",
       "  <th>Car</th>       <td> 1.726e+05</td> <td> 8937.839</td> <td>   19.314</td> <td> 0.000</td> <td> 1.55e+05</td> <td>  1.9e+05</td>\n",
       "</tr>\n",
       "</table>\n",
       "<table class=\"simpletable\">\n",
       "<tr>\n",
       "  <th>Omnibus:</th>       <td>3279.008</td> <th>  Durbin-Watson:     </th> <td>   1.440</td> \n",
       "</tr>\n",
       "<tr>\n",
       "  <th>Prob(Omnibus):</th>  <td> 0.000</td>  <th>  Jarque-Bera (JB):  </th> <td>42609.105</td>\n",
       "</tr>\n",
       "<tr>\n",
       "  <th>Skew:</th>           <td> 2.331</td>  <th>  Prob(JB):          </th> <td>    0.00</td> \n",
       "</tr>\n",
       "<tr>\n",
       "  <th>Kurtosis:</th>       <td>15.181</td>  <th>  Cond. No.          </th> <td>    4.41</td> \n",
       "</tr>\n",
       "</table><br/><br/>Notes:<br/>[1] Standard Errors assume that the covariance matrix of the errors is correctly specified."
      ],
      "text/plain": [
       "<class 'statsmodels.iolib.summary.Summary'>\n",
       "\"\"\"\n",
       "                            OLS Regression Results                            \n",
       "==============================================================================\n",
       "Dep. Variable:                  Price   R-squared:                       0.058\n",
       "Model:                            OLS   Adj. R-squared:                  0.058\n",
       "Method:                 Least Squares   F-statistic:                     373.0\n",
       "Date:                Wed, 17 Nov 2021   Prob (F-statistic):           1.10e-80\n",
       "Time:                        04:35:32   Log-Likelihood:                -88944.\n",
       "No. Observations:                6012   AIC:                         1.779e+05\n",
       "Df Residuals:                    6010   BIC:                         1.779e+05\n",
       "Df Model:                           1                                         \n",
       "Covariance Type:            nonrobust                                         \n",
       "==============================================================================\n",
       "                 coef    std err          t      P>|t|      [0.025      0.975]\n",
       "------------------------------------------------------------------------------\n",
       "Intercept   7.957e+05   1.63e+04     48.922      0.000    7.64e+05    8.28e+05\n",
       "Car         1.726e+05   8937.839     19.314      0.000    1.55e+05     1.9e+05\n",
       "==============================================================================\n",
       "Omnibus:                     3279.008   Durbin-Watson:                   1.440\n",
       "Prob(Omnibus):                  0.000   Jarque-Bera (JB):            42609.105\n",
       "Skew:                           2.331   Prob(JB):                         0.00\n",
       "Kurtosis:                      15.181   Cond. No.                         4.41\n",
       "==============================================================================\n",
       "\n",
       "Notes:\n",
       "[1] Standard Errors assume that the covariance matrix of the errors is correctly specified.\n",
       "\"\"\""
      ]
     },
     "execution_count": 300,
     "metadata": {},
     "output_type": "execute_result"
    }
   ],
   "source": [
    "fit = ols('Price ~ Car', data=df_rooms).fit() \n",
    "fit.summary()"
   ]
  },
  {
   "cell_type": "markdown",
   "metadata": {},
   "source": [
    "Из полученных значений можно заключить следующее:\n",
    "1. Значение Prob(Omnibus) = 0, что указывает на то, что остатки не распределены нормально.\n",
    "2. Высокое значение Omnibus указывает на асимметрию, уже обнаруженную визуально на графике.\n",
    "4. Durbin-Watson ~ 1.4 указывает на то, что гомоскедастичность соблюдена. Это означает, что дисперсия ошибок близка к постоянной. Однако, присутствует слабая положительная автокорреляция.\n",
    "3. Высокий положительный Skew указывает на то, что нормальное остаточное распределение не соблюдается и свидетельствует о более \"толстом хвосте\" справа, что так же подтверждается графиком выше.\n",
    "5. Высокий показатель Jaque-Bera теста так же свидетельствует об отстутствии нормального распределения остатков."
   ]
  },
  {
   "cell_type": "markdown",
   "metadata": {},
   "source": [
    "Заключение:\n",
    "1. Гипотеза подтверждена - количество парковочных мест напрямую коррелирует с количеством комнат в доме.\n",
    "2. Бизнес в сфере строительства может использовать данную информацию при планировании и проектировании домов."
   ]
  },
  {
   "cell_type": "markdown",
   "metadata": {},
   "source": [
    "#### Гипотеза №:3 Количесво недвижимости возраствает с запада на восток и с юга на север"
   ]
  },
  {
   "cell_type": "markdown",
   "metadata": {},
   "source": [
    "Прежде всего проверим предположение с юга на север и построим график:\n",
    "\n",
    "(чем ниже Latitude, тем севернее)"
   ]
  },
  {
   "cell_type": "code",
   "execution_count": 247,
   "metadata": {
    "scrolled": false
   },
   "outputs": [
    {
     "data": {
      "text/plain": [
       "<seaborn.axisgrid.FacetGrid at 0x25d5bb80940>"
      ]
     },
     "execution_count": 247,
     "metadata": {},
     "output_type": "execute_result"
    },
    {
     "data": {
      "image/png": "[encoded data removed]",
      "text/plain": [
       "<Figure size 360x360 with 1 Axes>"
      ]
     },
     "metadata": {},
     "output_type": "display_data"
    }
   ],
   "source": [
    "sns.set(rc={'figure.figsize':(15, 9)})\n",
    "sns.lmplot(x='Lattitude', y='Propertycount', scatter_kws={\"s\": 2, \"color\": \"#63b9dd\"}, data=df)"
   ]
  },
  {
   "cell_type": "markdown",
   "metadata": {},
   "source": [
    "построим регрессию:"
   ]
  },
  {
   "cell_type": "code",
   "execution_count": 288,
   "metadata": {
    "scrolled": false
   },
   "outputs": [
    {
     "data": {
      "text/html": [
       "<table class=\"simpletable\">\n",
       "<caption>OLS Regression Results</caption>\n",
       "<tr>\n",
       "  <th>Dep. Variable:</th>        <td>Lattitude</td>    <th>  R-squared:         </th>  <td>   0.003</td> \n",
       "</tr>\n",
       "<tr>\n",
       "  <th>Model:</th>                   <td>OLS</td>       <th>  Adj. R-squared:    </th>  <td>   0.003</td> \n",
       "</tr>\n",
       "<tr>\n",
       "  <th>Method:</th>             <td>Least Squares</td>  <th>  F-statistic:       </th>  <td>   20.44</td> \n",
       "</tr>\n",
       "<tr>\n",
       "  <th>Date:</th>             <td>Wed, 17 Nov 2021</td> <th>  Prob (F-statistic):</th>  <td>6.27e-06</td> \n",
       "</tr>\n",
       "<tr>\n",
       "  <th>Time:</th>                 <td>03:53:25</td>     <th>  Log-Likelihood:    </th>  <td>  7161.9</td> \n",
       "</tr>\n",
       "<tr>\n",
       "  <th>No. Observations:</th>      <td>  6041</td>      <th>  AIC:               </th> <td>-1.432e+04</td>\n",
       "</tr>\n",
       "<tr>\n",
       "  <th>Df Residuals:</th>          <td>  6039</td>      <th>  BIC:               </th> <td>-1.431e+04</td>\n",
       "</tr>\n",
       "<tr>\n",
       "  <th>Df Model:</th>              <td>     1</td>      <th>                     </th>      <td> </td>    \n",
       "</tr>\n",
       "<tr>\n",
       "  <th>Covariance Type:</th>      <td>nonrobust</td>    <th>                     </th>      <td> </td>    \n",
       "</tr>\n",
       "</table>\n",
       "<table class=\"simpletable\">\n",
       "<tr>\n",
       "        <td></td>           <th>coef</th>     <th>std err</th>      <th>t</th>      <th>P>|t|</th>  <th>[0.025</th>    <th>0.975]</th>  \n",
       "</tr>\n",
       "<tr>\n",
       "  <th>Intercept</th>     <td>  -37.8160</td> <td>    0.002</td> <td>-2.01e+04</td> <td> 0.000</td> <td>  -37.820</td> <td>  -37.812</td>\n",
       "</tr>\n",
       "<tr>\n",
       "  <th>Propertycount</th> <td> 9.888e-07</td> <td> 2.19e-07</td> <td>    4.521</td> <td> 0.000</td> <td>  5.6e-07</td> <td> 1.42e-06</td>\n",
       "</tr>\n",
       "</table>\n",
       "<table class=\"simpletable\">\n",
       "<tr>\n",
       "  <th>Omnibus:</th>       <td>279.380</td> <th>  Durbin-Watson:     </th> <td>   0.689</td> \n",
       "</tr>\n",
       "<tr>\n",
       "  <th>Prob(Omnibus):</th> <td> 0.000</td>  <th>  Jarque-Bera (JB):  </th> <td> 575.692</td> \n",
       "</tr>\n",
       "<tr>\n",
       "  <th>Skew:</th>          <td>-0.322</td>  <th>  Prob(JB):          </th> <td>9.77e-126</td>\n",
       "</tr>\n",
       "<tr>\n",
       "  <th>Kurtosis:</th>      <td> 4.368</td>  <th>  Cond. No.          </th> <td>1.71e+04</td> \n",
       "</tr>\n",
       "</table><br/><br/>Notes:<br/>[1] Standard Errors assume that the covariance matrix of the errors is correctly specified.<br/>[2] The condition number is large, 1.71e+04. This might indicate that there are<br/>strong multicollinearity or other numerical problems."
      ],
      "text/plain": [
       "<class 'statsmodels.iolib.summary.Summary'>\n",
       "\"\"\"\n",
       "                            OLS Regression Results                            \n",
       "==============================================================================\n",
       "Dep. Variable:              Lattitude   R-squared:                       0.003\n",
       "Model:                            OLS   Adj. R-squared:                  0.003\n",
       "Method:                 Least Squares   F-statistic:                     20.44\n",
       "Date:                Wed, 17 Nov 2021   Prob (F-statistic):           6.27e-06\n",
       "Time:                        03:53:25   Log-Likelihood:                 7161.9\n",
       "No. Observations:                6041   AIC:                        -1.432e+04\n",
       "Df Residuals:                    6039   BIC:                        -1.431e+04\n",
       "Df Model:                           1                                         \n",
       "Covariance Type:            nonrobust                                         \n",
       "=================================================================================\n",
       "                    coef    std err          t      P>|t|      [0.025      0.975]\n",
       "---------------------------------------------------------------------------------\n",
       "Intercept       -37.8160      0.002  -2.01e+04      0.000     -37.820     -37.812\n",
       "Propertycount  9.888e-07   2.19e-07      4.521      0.000     5.6e-07    1.42e-06\n",
       "==============================================================================\n",
       "Omnibus:                      279.380   Durbin-Watson:                   0.689\n",
       "Prob(Omnibus):                  0.000   Jarque-Bera (JB):              575.692\n",
       "Skew:                          -0.322   Prob(JB):                    9.77e-126\n",
       "Kurtosis:                       4.368   Cond. No.                     1.71e+04\n",
       "==============================================================================\n",
       "\n",
       "Notes:\n",
       "[1] Standard Errors assume that the covariance matrix of the errors is correctly specified.\n",
       "[2] The condition number is large, 1.71e+04. This might indicate that there are\n",
       "strong multicollinearity or other numerical problems.\n",
       "\"\"\""
      ]
     },
     "execution_count": 288,
     "metadata": {},
     "output_type": "execute_result"
    }
   ],
   "source": [
    "fit = ols('Lattitude ~ Propertycount', data=df_rooms).fit() \n",
    "fit.summary()"
   ]
  },
  {
   "cell_type": "markdown",
   "metadata": {},
   "source": [
    "Из полученных значений можно заключить следующее:\n",
    "1. Значение Prob(Omnibus) = 0, что указывает на то, что остатки не распределены нормально.\n",
    "2. Высокое значение Omnibus указывает на асимметричное распределение остатков.\n",
    "4. Durbin-Watson ~ 0.7 указывает на то, что гомоскедастичность не соблюдена. Это означает, что дисперсия ошибок непостоянна. Кроме того, присутствует значительная положительная автокорреляция.\n",
    "3. Отрицательный Skew указывает на то, что нормальное остаточное распределение не соблюдается и свидетельствует о более \"толстом хвосте\" сплева.\n",
    "5. Высокий показатель Jaque-Bera теста так же свидетельствует об отстутствии нормального распределения остатков."
   ]
  },
  {
   "cell_type": "markdown",
   "metadata": {},
   "source": [
    "Теперь посмотрим на распределение запад-восток:\n",
    "\n",
    "(чем больше Longitude, тем восточней)"
   ]
  },
  {
   "cell_type": "code",
   "execution_count": 248,
   "metadata": {
    "scrolled": false
   },
   "outputs": [
    {
     "data": {
      "text/plain": [
       "<seaborn.axisgrid.FacetGrid at 0x25d5bbc1a60>"
      ]
     },
     "execution_count": 248,
     "metadata": {},
     "output_type": "execute_result"
    },
    {
     "data": {
      "image/png": "[encoded data removed]",
      "text/plain": [
       "<Figure size 360x360 with 1 Axes>"
      ]
     },
     "metadata": {},
     "output_type": "display_data"
    }
   ],
   "source": [
    "sns.set(rc={'figure.figsize':(15, 9)})\n",
    "sns.lmplot(x='Longtitude', y='Propertycount', scatter_kws={\"s\": 2, \"color\": \"#63b9dd\"}, data=df)"
   ]
  },
  {
   "cell_type": "markdown",
   "metadata": {},
   "source": [
    "построим регрессию:"
   ]
  },
  {
   "cell_type": "code",
   "execution_count": 287,
   "metadata": {
    "scrolled": false
   },
   "outputs": [
    {
     "data": {
      "text/html": [
       "<table class=\"simpletable\">\n",
       "<caption>OLS Regression Results</caption>\n",
       "<tr>\n",
       "  <th>Dep. Variable:</th>       <td>Longtitude</td>    <th>  R-squared:         </th>  <td>   0.010</td> \n",
       "</tr>\n",
       "<tr>\n",
       "  <th>Model:</th>                   <td>OLS</td>       <th>  Adj. R-squared:    </th>  <td>   0.009</td> \n",
       "</tr>\n",
       "<tr>\n",
       "  <th>Method:</th>             <td>Least Squares</td>  <th>  F-statistic:       </th>  <td>   58.05</td> \n",
       "</tr>\n",
       "<tr>\n",
       "  <th>Date:</th>             <td>Wed, 17 Nov 2021</td> <th>  Prob (F-statistic):</th>  <td>2.94e-14</td> \n",
       "</tr>\n",
       "<tr>\n",
       "  <th>Time:</th>                 <td>03:53:06</td>     <th>  Log-Likelihood:    </th>  <td>  5543.2</td> \n",
       "</tr>\n",
       "<tr>\n",
       "  <th>No. Observations:</th>      <td>  6041</td>      <th>  AIC:               </th> <td>-1.108e+04</td>\n",
       "</tr>\n",
       "<tr>\n",
       "  <th>Df Residuals:</th>          <td>  6039</td>      <th>  BIC:               </th> <td>-1.107e+04</td>\n",
       "</tr>\n",
       "<tr>\n",
       "  <th>Df Model:</th>              <td>     1</td>      <th>                     </th>      <td> </td>    \n",
       "</tr>\n",
       "<tr>\n",
       "  <th>Covariance Type:</th>      <td>nonrobust</td>    <th>                     </th>      <td> </td>    \n",
       "</tr>\n",
       "</table>\n",
       "<table class=\"simpletable\">\n",
       "<tr>\n",
       "        <td></td>           <th>coef</th>     <th>std err</th>      <th>t</th>      <th>P>|t|</th>  <th>[0.025</th>    <th>0.975]</th>  \n",
       "</tr>\n",
       "<tr>\n",
       "  <th>Intercept</th>     <td>  144.9741</td> <td>    0.002</td> <td> 5.88e+04</td> <td> 0.000</td> <td>  144.969</td> <td>  144.979</td>\n",
       "</tr>\n",
       "<tr>\n",
       "  <th>Propertycount</th> <td> 2.179e-06</td> <td> 2.86e-07</td> <td>    7.619</td> <td> 0.000</td> <td> 1.62e-06</td> <td> 2.74e-06</td>\n",
       "</tr>\n",
       "</table>\n",
       "<table class=\"simpletable\">\n",
       "<tr>\n",
       "  <th>Omnibus:</th>       <td>301.671</td> <th>  Durbin-Watson:     </th> <td>   0.727</td> \n",
       "</tr>\n",
       "<tr>\n",
       "  <th>Prob(Omnibus):</th> <td> 0.000</td>  <th>  Jarque-Bera (JB):  </th> <td>1085.131</td> \n",
       "</tr>\n",
       "<tr>\n",
       "  <th>Skew:</th>          <td>-0.091</td>  <th>  Prob(JB):          </th> <td>2.33e-236</td>\n",
       "</tr>\n",
       "<tr>\n",
       "  <th>Kurtosis:</th>      <td> 5.068</td>  <th>  Cond. No.          </th> <td>1.71e+04</td> \n",
       "</tr>\n",
       "</table><br/><br/>Notes:<br/>[1] Standard Errors assume that the covariance matrix of the errors is correctly specified.<br/>[2] The condition number is large, 1.71e+04. This might indicate that there are<br/>strong multicollinearity or other numerical problems."
      ],
      "text/plain": [
       "<class 'statsmodels.iolib.summary.Summary'>\n",
       "\"\"\"\n",
       "                            OLS Regression Results                            \n",
       "==============================================================================\n",
       "Dep. Variable:             Longtitude   R-squared:                       0.010\n",
       "Model:                            OLS   Adj. R-squared:                  0.009\n",
       "Method:                 Least Squares   F-statistic:                     58.05\n",
       "Date:                Wed, 17 Nov 2021   Prob (F-statistic):           2.94e-14\n",
       "Time:                        03:53:06   Log-Likelihood:                 5543.2\n",
       "No. Observations:                6041   AIC:                        -1.108e+04\n",
       "Df Residuals:                    6039   BIC:                        -1.107e+04\n",
       "Df Model:                           1                                         \n",
       "Covariance Type:            nonrobust                                         \n",
       "=================================================================================\n",
       "                    coef    std err          t      P>|t|      [0.025      0.975]\n",
       "---------------------------------------------------------------------------------\n",
       "Intercept       144.9741      0.002   5.88e+04      0.000     144.969     144.979\n",
       "Propertycount  2.179e-06   2.86e-07      7.619      0.000    1.62e-06    2.74e-06\n",
       "==============================================================================\n",
       "Omnibus:                      301.671   Durbin-Watson:                   0.727\n",
       "Prob(Omnibus):                  0.000   Jarque-Bera (JB):             1085.131\n",
       "Skew:                          -0.091   Prob(JB):                    2.33e-236\n",
       "Kurtosis:                       5.068   Cond. No.                     1.71e+04\n",
       "==============================================================================\n",
       "\n",
       "Notes:\n",
       "[1] Standard Errors assume that the covariance matrix of the errors is correctly specified.\n",
       "[2] The condition number is large, 1.71e+04. This might indicate that there are\n",
       "strong multicollinearity or other numerical problems.\n",
       "\"\"\""
      ]
     },
     "execution_count": 287,
     "metadata": {},
     "output_type": "execute_result"
    }
   ],
   "source": [
    "fit = ols('Longtitude ~ Propertycount', data=df_rooms).fit() \n",
    "fit.summary()"
   ]
  },
  {
   "cell_type": "markdown",
   "metadata": {},
   "source": [
    "Из полученных значений можно заключить следующее:\n",
    "1. Значение Prob(Omnibus) = 0, что указывает на то, что остатки не распределены нормально.\n",
    "2. Высокое значение Omnibus указывает на асимметричное распределение остатков.\n",
    "4. Durbin-Watson ~ 0.7 указывает на то, что гомоскедастичность не соблюдена. Это означает, что дисперсия ошибок непостоянна. Кроме того, присутствует значительная положительная автокорреляция.\n",
    "3. Отрицательный Skew указывает на то, что нормальное остаточное распределение не соблюдается и свидетельствует о более \"толстом хвосте\" сплева. Однако, так как значение мало, этра разница несущественна.\n",
    "5. Высокий показатель Jaque-Bera теста так же свидетельствует об отстутствии нормального распределения остатков."
   ]
  },
  {
   "cell_type": "markdown",
   "metadata": {},
   "source": [
    "Заключение:\n",
    "1. Гипотеза подтверждена - количество объектов недвижимости возрастает к северо-востоку.\n",
    "2. Для бизнеса в сфере городского планирования эта информация необходима для определения участков активного создания жилой недвижимости и построения планов застройки."
   ]
  },
  {
   "cell_type": "markdown",
   "metadata": {},
   "source": [
    "### Дальнейший анализ"
   ]
  },
  {
   "cell_type": "markdown",
   "metadata": {},
   "source": [
    "После анализа трех гипотез мы получили четыре одиночные полиномиальные регрессии, однако их результаты указали на то, что ни в одной не соблюдается нормальное распределение остатков. Давайте построим еще несколько моделей, на этот раз множественной регрессии, в надежде найти такую, где соблюдаются все предположения обычного метода наименьших квадратов."
   ]
  },
  {
   "cell_type": "code",
   "execution_count": 129,
   "metadata": {},
   "outputs": [
    {
     "data": {
      "text/html": [
       "<div>\n",
       "<style scoped>\n",
       "    .dataframe tbody tr th:only-of-type {\n",
       "        vertical-align: middle;\n",
       "    }\n",
       "\n",
       "    .dataframe tbody tr th {\n",
       "        vertical-align: top;\n",
       "    }\n",
       "\n",
       "    .dataframe thead th {\n",
       "        text-align: right;\n",
       "    }\n",
       "</style>\n",
       "<table border=\"1\" class=\"dataframe\">\n",
       "  <thead>\n",
       "    <tr style=\"text-align: right;\">\n",
       "      <th></th>\n",
       "      <th>Rooms</th>\n",
       "      <th>Price</th>\n",
       "      <th>Distance</th>\n",
       "      <th>Bedroom2</th>\n",
       "      <th>Bathroom</th>\n",
       "      <th>Car</th>\n",
       "      <th>Landsize</th>\n",
       "      <th>BuildingArea</th>\n",
       "      <th>YearBuilt</th>\n",
       "      <th>Lattitude</th>\n",
       "      <th>Longtitude</th>\n",
       "      <th>Propertycount</th>\n",
       "      <th>Types</th>\n",
       "      <th>Area</th>\n",
       "      <th>Region</th>\n",
       "    </tr>\n",
       "  </thead>\n",
       "  <tbody>\n",
       "    <tr>\n",
       "      <th>2</th>\n",
       "      <td>2</td>\n",
       "      <td>1035000.0</td>\n",
       "      <td>2.5</td>\n",
       "      <td>2.0</td>\n",
       "      <td>1.0</td>\n",
       "      <td>0.0</td>\n",
       "      <td>156.0</td>\n",
       "      <td>79.0</td>\n",
       "      <td>1900.0</td>\n",
       "      <td>-37.8079</td>\n",
       "      <td>144.9934</td>\n",
       "      <td>4019.0</td>\n",
       "      <td>1</td>\n",
       "      <td>1</td>\n",
       "      <td>1</td>\n",
       "    </tr>\n",
       "    <tr>\n",
       "      <th>4</th>\n",
       "      <td>3</td>\n",
       "      <td>1465000.0</td>\n",
       "      <td>2.5</td>\n",
       "      <td>3.0</td>\n",
       "      <td>2.0</td>\n",
       "      <td>0.0</td>\n",
       "      <td>134.0</td>\n",
       "      <td>150.0</td>\n",
       "      <td>1900.0</td>\n",
       "      <td>-37.8093</td>\n",
       "      <td>144.9944</td>\n",
       "      <td>4019.0</td>\n",
       "      <td>1</td>\n",
       "      <td>1</td>\n",
       "      <td>1</td>\n",
       "    </tr>\n",
       "  </tbody>\n",
       "</table>\n",
       "</div>"
      ],
      "text/plain": [
       "   Rooms      Price  Distance  Bedroom2  Bathroom  Car  Landsize  \\\n",
       "2      2  1035000.0       2.5       2.0       1.0  0.0     156.0   \n",
       "4      3  1465000.0       2.5       3.0       2.0  0.0     134.0   \n",
       "\n",
       "   BuildingArea  YearBuilt  Lattitude  Longtitude  Propertycount  Types  Area  \\\n",
       "2          79.0     1900.0   -37.8079    144.9934         4019.0      1     1   \n",
       "4         150.0     1900.0   -37.8093    144.9944         4019.0      1     1   \n",
       "\n",
       "   Region  \n",
       "2       1  \n",
       "4       1  "
      ]
     },
     "execution_count": 129,
     "metadata": {},
     "output_type": "execute_result"
    }
   ],
   "source": [
    "df.head(2)"
   ]
  },
  {
   "cell_type": "code",
   "execution_count": 357,
   "metadata": {},
   "outputs": [
    {
     "data": {
      "text/html": [
       "<table class=\"simpletable\">\n",
       "<caption>OLS Regression Results</caption>\n",
       "<tr>\n",
       "  <th>Dep. Variable:</th>          <td>Price</td>      <th>  R-squared:         </th> <td>   0.097</td> \n",
       "</tr>\n",
       "<tr>\n",
       "  <th>Model:</th>                   <td>OLS</td>       <th>  Adj. R-squared:    </th> <td>   0.096</td> \n",
       "</tr>\n",
       "<tr>\n",
       "  <th>Method:</th>             <td>Least Squares</td>  <th>  F-statistic:       </th> <td>   323.5</td> \n",
       "</tr>\n",
       "<tr>\n",
       "  <th>Date:</th>             <td>Wed, 17 Nov 2021</td> <th>  Prob (F-statistic):</th> <td>3.21e-134</td>\n",
       "</tr>\n",
       "<tr>\n",
       "  <th>Time:</th>                 <td>13:50:02</td>     <th>  Log-Likelihood:    </th> <td> -89478.</td> \n",
       "</tr>\n",
       "<tr>\n",
       "  <th>No. Observations:</th>      <td>  6050</td>      <th>  AIC:               </th> <td>1.790e+05</td>\n",
       "</tr>\n",
       "<tr>\n",
       "  <th>Df Residuals:</th>          <td>  6047</td>      <th>  BIC:               </th> <td>1.790e+05</td>\n",
       "</tr>\n",
       "<tr>\n",
       "  <th>Df Model:</th>              <td>     2</td>      <th>                     </th>     <td> </td>    \n",
       "</tr>\n",
       "<tr>\n",
       "  <th>Covariance Type:</th>      <td>nonrobust</td>    <th>                     </th>     <td> </td>    \n",
       "</tr>\n",
       "</table>\n",
       "<table class=\"simpletable\">\n",
       "<tr>\n",
       "      <td></td>         <th>coef</th>     <th>std err</th>      <th>t</th>      <th>P>|t|</th>  <th>[0.025</th>    <th>0.975]</th>  \n",
       "</tr>\n",
       "<tr>\n",
       "  <th>Intercept</th> <td> 9.887e+05</td> <td> 2.01e+04</td> <td>   49.171</td> <td> 0.000</td> <td> 9.49e+05</td> <td> 1.03e+06</td>\n",
       "</tr>\n",
       "<tr>\n",
       "  <th>Distance</th>  <td>-3.554e+04</td> <td> 1695.196</td> <td>  -20.965</td> <td> 0.000</td> <td>-3.89e+04</td> <td>-3.22e+04</td>\n",
       "</tr>\n",
       "<tr>\n",
       "  <th>Region</th>    <td> 1.812e+05</td> <td> 8039.658</td> <td>   22.533</td> <td> 0.000</td> <td> 1.65e+05</td> <td> 1.97e+05</td>\n",
       "</tr>\n",
       "</table>\n",
       "<table class=\"simpletable\">\n",
       "<tr>\n",
       "  <th>Omnibus:</th>       <td>3282.613</td> <th>  Durbin-Watson:     </th> <td>   1.598</td> \n",
       "</tr>\n",
       "<tr>\n",
       "  <th>Prob(Omnibus):</th>  <td> 0.000</td>  <th>  Jarque-Bera (JB):  </th> <td>45959.683</td>\n",
       "</tr>\n",
       "<tr>\n",
       "  <th>Skew:</th>           <td> 2.287</td>  <th>  Prob(JB):          </th> <td>    0.00</td> \n",
       "</tr>\n",
       "<tr>\n",
       "  <th>Kurtosis:</th>       <td>15.705</td>  <th>  Cond. No.          </th> <td>    28.6</td> \n",
       "</tr>\n",
       "</table><br/><br/>Notes:<br/>[1] Standard Errors assume that the covariance matrix of the errors is correctly specified."
      ],
      "text/plain": [
       "<class 'statsmodels.iolib.summary.Summary'>\n",
       "\"\"\"\n",
       "                            OLS Regression Results                            \n",
       "==============================================================================\n",
       "Dep. Variable:                  Price   R-squared:                       0.097\n",
       "Model:                            OLS   Adj. R-squared:                  0.096\n",
       "Method:                 Least Squares   F-statistic:                     323.5\n",
       "Date:                Wed, 17 Nov 2021   Prob (F-statistic):          3.21e-134\n",
       "Time:                        13:50:02   Log-Likelihood:                -89478.\n",
       "No. Observations:                6050   AIC:                         1.790e+05\n",
       "Df Residuals:                    6047   BIC:                         1.790e+05\n",
       "Df Model:                           2                                         \n",
       "Covariance Type:            nonrobust                                         \n",
       "==============================================================================\n",
       "                 coef    std err          t      P>|t|      [0.025      0.975]\n",
       "------------------------------------------------------------------------------\n",
       "Intercept   9.887e+05   2.01e+04     49.171      0.000    9.49e+05    1.03e+06\n",
       "Distance   -3.554e+04   1695.196    -20.965      0.000   -3.89e+04   -3.22e+04\n",
       "Region      1.812e+05   8039.658     22.533      0.000    1.65e+05    1.97e+05\n",
       "==============================================================================\n",
       "Omnibus:                     3282.613   Durbin-Watson:                   1.598\n",
       "Prob(Omnibus):                  0.000   Jarque-Bera (JB):            45959.683\n",
       "Skew:                           2.287   Prob(JB):                         0.00\n",
       "Kurtosis:                      15.705   Cond. No.                         28.6\n",
       "==============================================================================\n",
       "\n",
       "Notes:\n",
       "[1] Standard Errors assume that the covariance matrix of the errors is correctly specified.\n",
       "\"\"\""
      ]
     },
     "execution_count": 357,
     "metadata": {},
     "output_type": "execute_result"
    }
   ],
   "source": [
    "fit = ols('Price ~ Distance + Region', data=df).fit() \n",
    "fit.summary()"
   ]
  },
  {
   "cell_type": "code",
   "execution_count": 433,
   "metadata": {},
   "outputs": [
    {
     "data": {
      "text/html": [
       "<table class=\"simpletable\">\n",
       "<caption>OLS Regression Results</caption>\n",
       "<tr>\n",
       "  <th>Dep. Variable:</th>          <td>Price</td>      <th>  R-squared:         </th> <td>   0.321</td> \n",
       "</tr>\n",
       "<tr>\n",
       "  <th>Model:</th>                   <td>OLS</td>       <th>  Adj. R-squared:    </th> <td>   0.321</td> \n",
       "</tr>\n",
       "<tr>\n",
       "  <th>Method:</th>             <td>Least Squares</td>  <th>  F-statistic:       </th> <td>   572.0</td> \n",
       "</tr>\n",
       "<tr>\n",
       "  <th>Date:</th>             <td>Sun, 14 Nov 2021</td> <th>  Prob (F-statistic):</th>  <td>  0.00</td>  \n",
       "</tr>\n",
       "<tr>\n",
       "  <th>Time:</th>                 <td>14:52:50</td>     <th>  Log-Likelihood:    </th> <td> -88613.</td> \n",
       "</tr>\n",
       "<tr>\n",
       "  <th>No. Observations:</th>      <td>  6050</td>      <th>  AIC:               </th> <td>1.772e+05</td>\n",
       "</tr>\n",
       "<tr>\n",
       "  <th>Df Residuals:</th>          <td>  6044</td>      <th>  BIC:               </th> <td>1.773e+05</td>\n",
       "</tr>\n",
       "<tr>\n",
       "  <th>Df Model:</th>              <td>     5</td>      <th>                     </th>     <td> </td>    \n",
       "</tr>\n",
       "<tr>\n",
       "  <th>Covariance Type:</th>      <td>nonrobust</td>    <th>                     </th>     <td> </td>    \n",
       "</tr>\n",
       "</table>\n",
       "<table class=\"simpletable\">\n",
       "<tr>\n",
       "      <td></td>         <th>coef</th>     <th>std err</th>      <th>t</th>      <th>P>|t|</th>  <th>[0.025</th>    <th>0.975]</th>  \n",
       "</tr>\n",
       "<tr>\n",
       "  <th>Intercept</th> <td>  2.06e+05</td> <td> 3.68e+04</td> <td>    5.602</td> <td> 0.000</td> <td> 1.34e+05</td> <td> 2.78e+05</td>\n",
       "</tr>\n",
       "<tr>\n",
       "  <th>Rooms</th>     <td> 2.546e+05</td> <td>  1.4e+04</td> <td>   18.230</td> <td> 0.000</td> <td> 2.27e+05</td> <td> 2.82e+05</td>\n",
       "</tr>\n",
       "<tr>\n",
       "  <th>Car</th>       <td> 2.665e+04</td> <td> 8457.689</td> <td>    3.151</td> <td> 0.002</td> <td> 1.01e+04</td> <td> 4.32e+04</td>\n",
       "</tr>\n",
       "<tr>\n",
       "  <th>Types</th>     <td>-1.633e+05</td> <td> 1.17e+04</td> <td>  -13.926</td> <td> 0.000</td> <td>-1.86e+05</td> <td> -1.4e+05</td>\n",
       "</tr>\n",
       "<tr>\n",
       "  <th>Region</th>    <td> 5.567e+04</td> <td> 6254.839</td> <td>    8.900</td> <td> 0.000</td> <td> 4.34e+04</td> <td> 6.79e+04</td>\n",
       "</tr>\n",
       "<tr>\n",
       "  <th>Bedroom2</th>  <td> 6.302e+04</td> <td>  1.4e+04</td> <td>    4.499</td> <td> 0.000</td> <td> 3.56e+04</td> <td> 9.05e+04</td>\n",
       "</tr>\n",
       "</table>\n",
       "<table class=\"simpletable\">\n",
       "<tr>\n",
       "  <th>Omnibus:</th>       <td>3631.003</td> <th>  Durbin-Watson:     </th> <td>   1.296</td> \n",
       "</tr>\n",
       "<tr>\n",
       "  <th>Prob(Omnibus):</th>  <td> 0.000</td>  <th>  Jarque-Bera (JB):  </th> <td>83789.940</td>\n",
       "</tr>\n",
       "<tr>\n",
       "  <th>Skew:</th>           <td> 2.442</td>  <th>  Prob(JB):          </th> <td>    0.00</td> \n",
       "</tr>\n",
       "<tr>\n",
       "  <th>Kurtosis:</th>       <td>20.565</td>  <th>  Cond. No.          </th> <td>    29.1</td> \n",
       "</tr>\n",
       "</table><br/><br/>Warnings:<br/>[1] Standard Errors assume that the covariance matrix of the errors is correctly specified."
      ],
      "text/plain": [
       "<class 'statsmodels.iolib.summary.Summary'>\n",
       "\"\"\"\n",
       "                            OLS Regression Results                            \n",
       "==============================================================================\n",
       "Dep. Variable:                  Price   R-squared:                       0.321\n",
       "Model:                            OLS   Adj. R-squared:                  0.321\n",
       "Method:                 Least Squares   F-statistic:                     572.0\n",
       "Date:                Sun, 14 Nov 2021   Prob (F-statistic):               0.00\n",
       "Time:                        14:52:50   Log-Likelihood:                -88613.\n",
       "No. Observations:                6050   AIC:                         1.772e+05\n",
       "Df Residuals:                    6044   BIC:                         1.773e+05\n",
       "Df Model:                           5                                         \n",
       "Covariance Type:            nonrobust                                         \n",
       "==============================================================================\n",
       "                 coef    std err          t      P>|t|      [0.025      0.975]\n",
       "------------------------------------------------------------------------------\n",
       "Intercept    2.06e+05   3.68e+04      5.602      0.000    1.34e+05    2.78e+05\n",
       "Rooms       2.546e+05    1.4e+04     18.230      0.000    2.27e+05    2.82e+05\n",
       "Car         2.665e+04   8457.689      3.151      0.002    1.01e+04    4.32e+04\n",
       "Types      -1.633e+05   1.17e+04    -13.926      0.000   -1.86e+05    -1.4e+05\n",
       "Region      5.567e+04   6254.839      8.900      0.000    4.34e+04    6.79e+04\n",
       "Bedroom2    6.302e+04    1.4e+04      4.499      0.000    3.56e+04    9.05e+04\n",
       "==============================================================================\n",
       "Omnibus:                     3631.003   Durbin-Watson:                   1.296\n",
       "Prob(Omnibus):                  0.000   Jarque-Bera (JB):            83789.940\n",
       "Skew:                           2.442   Prob(JB):                         0.00\n",
       "Kurtosis:                      20.565   Cond. No.                         29.1\n",
       "==============================================================================\n",
       "\n",
       "Warnings:\n",
       "[1] Standard Errors assume that the covariance matrix of the errors is correctly specified.\n",
       "\"\"\""
      ]
     },
     "execution_count": 433,
     "metadata": {},
     "output_type": "execute_result"
    }
   ],
   "source": [
    "fit = ols('Price ~ Rooms + Car + Types + Region', data=df).fit() \n",
    "fit.summary()"
   ]
  },
  {
   "cell_type": "code",
   "execution_count": 440,
   "metadata": {},
   "outputs": [
    {
     "data": {
      "text/html": [
       "<table class=\"simpletable\">\n",
       "<caption>OLS Regression Results</caption>\n",
       "<tr>\n",
       "  <th>Dep. Variable:</th>          <td>Price</td>      <th>  R-squared:         </th> <td>   0.414</td> \n",
       "</tr>\n",
       "<tr>\n",
       "  <th>Model:</th>                   <td>OLS</td>       <th>  Adj. R-squared:    </th> <td>   0.413</td> \n",
       "</tr>\n",
       "<tr>\n",
       "  <th>Method:</th>             <td>Least Squares</td>  <th>  F-statistic:       </th> <td>   1067.</td> \n",
       "</tr>\n",
       "<tr>\n",
       "  <th>Date:</th>             <td>Sun, 14 Nov 2021</td> <th>  Prob (F-statistic):</th>  <td>  0.00</td>  \n",
       "</tr>\n",
       "<tr>\n",
       "  <th>Time:</th>                 <td>14:54:25</td>     <th>  Log-Likelihood:    </th> <td> -88170.</td> \n",
       "</tr>\n",
       "<tr>\n",
       "  <th>No. Observations:</th>      <td>  6050</td>      <th>  AIC:               </th> <td>1.764e+05</td>\n",
       "</tr>\n",
       "<tr>\n",
       "  <th>Df Residuals:</th>          <td>  6045</td>      <th>  BIC:               </th> <td>1.764e+05</td>\n",
       "</tr>\n",
       "<tr>\n",
       "  <th>Df Model:</th>              <td>     4</td>      <th>                     </th>     <td> </td>    \n",
       "</tr>\n",
       "<tr>\n",
       "  <th>Covariance Type:</th>      <td>nonrobust</td>    <th>                     </th>     <td> </td>    \n",
       "</tr>\n",
       "</table>\n",
       "<table class=\"simpletable\">\n",
       "<tr>\n",
       "      <td></td>         <th>coef</th>     <th>std err</th>      <th>t</th>      <th>P>|t|</th>  <th>[0.025</th>    <th>0.975]</th>  \n",
       "</tr>\n",
       "<tr>\n",
       "  <th>Intercept</th> <td> 5.351e+05</td> <td> 3.31e+04</td> <td>   16.186</td> <td> 0.000</td> <td>  4.7e+05</td> <td>    6e+05</td>\n",
       "</tr>\n",
       "<tr>\n",
       "  <th>Rooms</th>     <td> 3.637e+05</td> <td> 8055.830</td> <td>   45.145</td> <td> 0.000</td> <td> 3.48e+05</td> <td> 3.79e+05</td>\n",
       "</tr>\n",
       "<tr>\n",
       "  <th>Car</th>       <td>  7.74e+04</td> <td> 7731.302</td> <td>   10.011</td> <td> 0.000</td> <td> 6.22e+04</td> <td> 9.26e+04</td>\n",
       "</tr>\n",
       "<tr>\n",
       "  <th>Types</th>     <td>-1.716e+05</td> <td> 1.09e+04</td> <td>  -15.756</td> <td> 0.000</td> <td>-1.93e+05</td> <td> -1.5e+05</td>\n",
       "</tr>\n",
       "<tr>\n",
       "  <th>Distance</th>  <td>-4.164e+04</td> <td> 1272.881</td> <td>  -32.710</td> <td> 0.000</td> <td>-4.41e+04</td> <td>-3.91e+04</td>\n",
       "</tr>\n",
       "</table>\n",
       "<table class=\"simpletable\">\n",
       "<tr>\n",
       "  <th>Omnibus:</th>       <td>4068.919</td> <th>  Durbin-Watson:     </th>  <td>   1.391</td> \n",
       "</tr>\n",
       "<tr>\n",
       "  <th>Prob(Omnibus):</th>  <td> 0.000</td>  <th>  Jarque-Bera (JB):  </th> <td>142125.542</td>\n",
       "</tr>\n",
       "<tr>\n",
       "  <th>Skew:</th>           <td> 2.732</td>  <th>  Prob(JB):          </th>  <td>    0.00</td> \n",
       "</tr>\n",
       "<tr>\n",
       "  <th>Kurtosis:</th>       <td>26.107</td>  <th>  Cond. No.          </th>  <td>    60.5</td> \n",
       "</tr>\n",
       "</table><br/><br/>Warnings:<br/>[1] Standard Errors assume that the covariance matrix of the errors is correctly specified."
      ],
      "text/plain": [
       "<class 'statsmodels.iolib.summary.Summary'>\n",
       "\"\"\"\n",
       "                            OLS Regression Results                            \n",
       "==============================================================================\n",
       "Dep. Variable:                  Price   R-squared:                       0.414\n",
       "Model:                            OLS   Adj. R-squared:                  0.413\n",
       "Method:                 Least Squares   F-statistic:                     1067.\n",
       "Date:                Sun, 14 Nov 2021   Prob (F-statistic):               0.00\n",
       "Time:                        14:54:25   Log-Likelihood:                -88170.\n",
       "No. Observations:                6050   AIC:                         1.764e+05\n",
       "Df Residuals:                    6045   BIC:                         1.764e+05\n",
       "Df Model:                           4                                         \n",
       "Covariance Type:            nonrobust                                         \n",
       "==============================================================================\n",
       "                 coef    std err          t      P>|t|      [0.025      0.975]\n",
       "------------------------------------------------------------------------------\n",
       "Intercept   5.351e+05   3.31e+04     16.186      0.000     4.7e+05       6e+05\n",
       "Rooms       3.637e+05   8055.830     45.145      0.000    3.48e+05    3.79e+05\n",
       "Car          7.74e+04   7731.302     10.011      0.000    6.22e+04    9.26e+04\n",
       "Types      -1.716e+05   1.09e+04    -15.756      0.000   -1.93e+05    -1.5e+05\n",
       "Distance   -4.164e+04   1272.881    -32.710      0.000   -4.41e+04   -3.91e+04\n",
       "==============================================================================\n",
       "Omnibus:                     4068.919   Durbin-Watson:                   1.391\n",
       "Prob(Omnibus):                  0.000   Jarque-Bera (JB):           142125.542\n",
       "Skew:                           2.732   Prob(JB):                         0.00\n",
       "Kurtosis:                      26.107   Cond. No.                         60.5\n",
       "==============================================================================\n",
       "\n",
       "Warnings:\n",
       "[1] Standard Errors assume that the covariance matrix of the errors is correctly specified.\n",
       "\"\"\""
      ]
     },
     "execution_count": 440,
     "metadata": {},
     "output_type": "execute_result"
    }
   ],
   "source": [
    "fit = ols('Price ~ Rooms + Car + Types + Distance', data=df).fit() \n",
    "fit.summary()"
   ]
  },
  {
   "cell_type": "code",
   "execution_count": 450,
   "metadata": {
    "scrolled": false
   },
   "outputs": [
    {
     "data": {
      "text/html": [
       "<table class=\"simpletable\">\n",
       "<caption>OLS Regression Results</caption>\n",
       "<tr>\n",
       "  <th>Dep. Variable:</th>          <td>Price</td>      <th>  R-squared:         </th> <td>   0.414</td> \n",
       "</tr>\n",
       "<tr>\n",
       "  <th>Model:</th>                   <td>OLS</td>       <th>  Adj. R-squared:    </th> <td>   0.413</td> \n",
       "</tr>\n",
       "<tr>\n",
       "  <th>Method:</th>             <td>Least Squares</td>  <th>  F-statistic:       </th> <td>   1067.</td> \n",
       "</tr>\n",
       "<tr>\n",
       "  <th>Date:</th>             <td>Sun, 14 Nov 2021</td> <th>  Prob (F-statistic):</th>  <td>  0.00</td>  \n",
       "</tr>\n",
       "<tr>\n",
       "  <th>Time:</th>                 <td>15:01:16</td>     <th>  Log-Likelihood:    </th> <td> -88170.</td> \n",
       "</tr>\n",
       "<tr>\n",
       "  <th>No. Observations:</th>      <td>  6050</td>      <th>  AIC:               </th> <td>1.764e+05</td>\n",
       "</tr>\n",
       "<tr>\n",
       "  <th>Df Residuals:</th>          <td>  6045</td>      <th>  BIC:               </th> <td>1.764e+05</td>\n",
       "</tr>\n",
       "<tr>\n",
       "  <th>Df Model:</th>              <td>     4</td>      <th>                     </th>     <td> </td>    \n",
       "</tr>\n",
       "<tr>\n",
       "  <th>Covariance Type:</th>      <td>nonrobust</td>    <th>                     </th>     <td> </td>    \n",
       "</tr>\n",
       "</table>\n",
       "<table class=\"simpletable\">\n",
       "<tr>\n",
       "      <td></td>         <th>coef</th>     <th>std err</th>      <th>t</th>      <th>P>|t|</th>  <th>[0.025</th>    <th>0.975]</th>  \n",
       "</tr>\n",
       "<tr>\n",
       "  <th>Intercept</th> <td> 5.351e+05</td> <td> 3.31e+04</td> <td>   16.186</td> <td> 0.000</td> <td>  4.7e+05</td> <td>    6e+05</td>\n",
       "</tr>\n",
       "<tr>\n",
       "  <th>Rooms</th>     <td> 3.637e+05</td> <td> 8055.830</td> <td>   45.145</td> <td> 0.000</td> <td> 3.48e+05</td> <td> 3.79e+05</td>\n",
       "</tr>\n",
       "<tr>\n",
       "  <th>Car</th>       <td>  7.74e+04</td> <td> 7731.302</td> <td>   10.011</td> <td> 0.000</td> <td> 6.22e+04</td> <td> 9.26e+04</td>\n",
       "</tr>\n",
       "<tr>\n",
       "  <th>Types</th>     <td>-1.716e+05</td> <td> 1.09e+04</td> <td>  -15.756</td> <td> 0.000</td> <td>-1.93e+05</td> <td> -1.5e+05</td>\n",
       "</tr>\n",
       "<tr>\n",
       "  <th>Distance</th>  <td>-4.164e+04</td> <td> 1272.881</td> <td>  -32.710</td> <td> 0.000</td> <td>-4.41e+04</td> <td>-3.91e+04</td>\n",
       "</tr>\n",
       "</table>\n",
       "<table class=\"simpletable\">\n",
       "<tr>\n",
       "  <th>Omnibus:</th>       <td>4068.919</td> <th>  Durbin-Watson:     </th>  <td>   1.391</td> \n",
       "</tr>\n",
       "<tr>\n",
       "  <th>Prob(Omnibus):</th>  <td> 0.000</td>  <th>  Jarque-Bera (JB):  </th> <td>142125.542</td>\n",
       "</tr>\n",
       "<tr>\n",
       "  <th>Skew:</th>           <td> 2.732</td>  <th>  Prob(JB):          </th>  <td>    0.00</td> \n",
       "</tr>\n",
       "<tr>\n",
       "  <th>Kurtosis:</th>       <td>26.107</td>  <th>  Cond. No.          </th>  <td>    60.5</td> \n",
       "</tr>\n",
       "</table><br/><br/>Warnings:<br/>[1] Standard Errors assume that the covariance matrix of the errors is correctly specified."
      ],
      "text/plain": [
       "<class 'statsmodels.iolib.summary.Summary'>\n",
       "\"\"\"\n",
       "                            OLS Regression Results                            \n",
       "==============================================================================\n",
       "Dep. Variable:                  Price   R-squared:                       0.414\n",
       "Model:                            OLS   Adj. R-squared:                  0.413\n",
       "Method:                 Least Squares   F-statistic:                     1067.\n",
       "Date:                Sun, 14 Nov 2021   Prob (F-statistic):               0.00\n",
       "Time:                        15:01:16   Log-Likelihood:                -88170.\n",
       "No. Observations:                6050   AIC:                         1.764e+05\n",
       "Df Residuals:                    6045   BIC:                         1.764e+05\n",
       "Df Model:                           4                                         \n",
       "Covariance Type:            nonrobust                                         \n",
       "==============================================================================\n",
       "                 coef    std err          t      P>|t|      [0.025      0.975]\n",
       "------------------------------------------------------------------------------\n",
       "Intercept   5.351e+05   3.31e+04     16.186      0.000     4.7e+05       6e+05\n",
       "Rooms       3.637e+05   8055.830     45.145      0.000    3.48e+05    3.79e+05\n",
       "Car          7.74e+04   7731.302     10.011      0.000    6.22e+04    9.26e+04\n",
       "Types      -1.716e+05   1.09e+04    -15.756      0.000   -1.93e+05    -1.5e+05\n",
       "Distance   -4.164e+04   1272.881    -32.710      0.000   -4.41e+04   -3.91e+04\n",
       "==============================================================================\n",
       "Omnibus:                     4068.919   Durbin-Watson:                   1.391\n",
       "Prob(Omnibus):                  0.000   Jarque-Bera (JB):           142125.542\n",
       "Skew:                           2.732   Prob(JB):                         0.00\n",
       "Kurtosis:                      26.107   Cond. No.                         60.5\n",
       "==============================================================================\n",
       "\n",
       "Warnings:\n",
       "[1] Standard Errors assume that the covariance matrix of the errors is correctly specified.\n",
       "\"\"\""
      ]
     },
     "execution_count": 450,
     "metadata": {},
     "output_type": "execute_result"
    }
   ],
   "source": [
    "fit = ols('Price ~ Rooms + Car + Types + Distance', data=df).fit() \n",
    "fit.summary()"
   ]
  },
  {
   "cell_type": "code",
   "execution_count": 442,
   "metadata": {
    "scrolled": false
   },
   "outputs": [
    {
     "data": {
      "text/html": [
       "<table class=\"simpletable\">\n",
       "<caption>OLS Regression Results</caption>\n",
       "<tr>\n",
       "  <th>Dep. Variable:</th>          <td>Price</td>      <th>  R-squared:         </th> <td>   0.414</td> \n",
       "</tr>\n",
       "<tr>\n",
       "  <th>Model:</th>                   <td>OLS</td>       <th>  Adj. R-squared:    </th> <td>   0.413</td> \n",
       "</tr>\n",
       "<tr>\n",
       "  <th>Method:</th>             <td>Least Squares</td>  <th>  F-statistic:       </th> <td>   853.1</td> \n",
       "</tr>\n",
       "<tr>\n",
       "  <th>Date:</th>             <td>Sun, 14 Nov 2021</td> <th>  Prob (F-statistic):</th>  <td>  0.00</td>  \n",
       "</tr>\n",
       "<tr>\n",
       "  <th>Time:</th>                 <td>14:55:31</td>     <th>  Log-Likelihood:    </th> <td> -88170.</td> \n",
       "</tr>\n",
       "<tr>\n",
       "  <th>No. Observations:</th>      <td>  6050</td>      <th>  AIC:               </th> <td>1.764e+05</td>\n",
       "</tr>\n",
       "<tr>\n",
       "  <th>Df Residuals:</th>          <td>  6044</td>      <th>  BIC:               </th> <td>1.764e+05</td>\n",
       "</tr>\n",
       "<tr>\n",
       "  <th>Df Model:</th>              <td>     5</td>      <th>                     </th>     <td> </td>    \n",
       "</tr>\n",
       "<tr>\n",
       "  <th>Covariance Type:</th>      <td>nonrobust</td>    <th>                     </th>     <td> </td>    \n",
       "</tr>\n",
       "</table>\n",
       "<table class=\"simpletable\">\n",
       "<tr>\n",
       "        <td></td>           <th>coef</th>     <th>std err</th>      <th>t</th>      <th>P>|t|</th>  <th>[0.025</th>    <th>0.975]</th>  \n",
       "</tr>\n",
       "<tr>\n",
       "  <th>Intercept</th>     <td> 5.356e+05</td> <td> 3.59e+04</td> <td>   14.918</td> <td> 0.000</td> <td> 4.65e+05</td> <td> 6.06e+05</td>\n",
       "</tr>\n",
       "<tr>\n",
       "  <th>Rooms</th>         <td> 3.637e+05</td> <td> 8086.672</td> <td>   44.970</td> <td> 0.000</td> <td> 3.48e+05</td> <td>  3.8e+05</td>\n",
       "</tr>\n",
       "<tr>\n",
       "  <th>Car</th>           <td>  7.74e+04</td> <td> 7732.060</td> <td>   10.010</td> <td> 0.000</td> <td> 6.22e+04</td> <td> 9.26e+04</td>\n",
       "</tr>\n",
       "<tr>\n",
       "  <th>Types</th>         <td>-1.716e+05</td> <td> 1.09e+04</td> <td>  -15.753</td> <td> 0.000</td> <td>-1.93e+05</td> <td> -1.5e+05</td>\n",
       "</tr>\n",
       "<tr>\n",
       "  <th>Distance</th>      <td>-4.164e+04</td> <td> 1275.432</td> <td>  -32.646</td> <td> 0.000</td> <td>-4.41e+04</td> <td>-3.91e+04</td>\n",
       "</tr>\n",
       "<tr>\n",
       "  <th>Propertycount</th> <td>   -0.0500</td> <td>    1.542</td> <td>   -0.032</td> <td> 0.974</td> <td>   -3.072</td> <td>    2.972</td>\n",
       "</tr>\n",
       "</table>\n",
       "<table class=\"simpletable\">\n",
       "<tr>\n",
       "  <th>Omnibus:</th>       <td>4069.027</td> <th>  Durbin-Watson:     </th>  <td>   1.391</td> \n",
       "</tr>\n",
       "<tr>\n",
       "  <th>Prob(Omnibus):</th>  <td> 0.000</td>  <th>  Jarque-Bera (JB):  </th> <td>142133.867</td>\n",
       "</tr>\n",
       "<tr>\n",
       "  <th>Skew:</th>           <td> 2.732</td>  <th>  Prob(JB):          </th>  <td>    0.00</td> \n",
       "</tr>\n",
       "<tr>\n",
       "  <th>Kurtosis:</th>       <td>26.108</td>  <th>  Cond. No.          </th>  <td>4.81e+04</td> \n",
       "</tr>\n",
       "</table><br/><br/>Warnings:<br/>[1] Standard Errors assume that the covariance matrix of the errors is correctly specified.<br/>[2] The condition number is large, 4.81e+04. This might indicate that there are<br/>strong multicollinearity or other numerical problems."
      ],
      "text/plain": [
       "<class 'statsmodels.iolib.summary.Summary'>\n",
       "\"\"\"\n",
       "                            OLS Regression Results                            \n",
       "==============================================================================\n",
       "Dep. Variable:                  Price   R-squared:                       0.414\n",
       "Model:                            OLS   Adj. R-squared:                  0.413\n",
       "Method:                 Least Squares   F-statistic:                     853.1\n",
       "Date:                Sun, 14 Nov 2021   Prob (F-statistic):               0.00\n",
       "Time:                        14:55:31   Log-Likelihood:                -88170.\n",
       "No. Observations:                6050   AIC:                         1.764e+05\n",
       "Df Residuals:                    6044   BIC:                         1.764e+05\n",
       "Df Model:                           5                                         \n",
       "Covariance Type:            nonrobust                                         \n",
       "=================================================================================\n",
       "                    coef    std err          t      P>|t|      [0.025      0.975]\n",
       "---------------------------------------------------------------------------------\n",
       "Intercept      5.356e+05   3.59e+04     14.918      0.000    4.65e+05    6.06e+05\n",
       "Rooms          3.637e+05   8086.672     44.970      0.000    3.48e+05     3.8e+05\n",
       "Car             7.74e+04   7732.060     10.010      0.000    6.22e+04    9.26e+04\n",
       "Types         -1.716e+05   1.09e+04    -15.753      0.000   -1.93e+05    -1.5e+05\n",
       "Distance      -4.164e+04   1275.432    -32.646      0.000   -4.41e+04   -3.91e+04\n",
       "Propertycount    -0.0500      1.542     -0.032      0.974      -3.072       2.972\n",
       "==============================================================================\n",
       "Omnibus:                     4069.027   Durbin-Watson:                   1.391\n",
       "Prob(Omnibus):                  0.000   Jarque-Bera (JB):           142133.867\n",
       "Skew:                           2.732   Prob(JB):                         0.00\n",
       "Kurtosis:                      26.108   Cond. No.                     4.81e+04\n",
       "==============================================================================\n",
       "\n",
       "Warnings:\n",
       "[1] Standard Errors assume that the covariance matrix of the errors is correctly specified.\n",
       "[2] The condition number is large, 4.81e+04. This might indicate that there are\n",
       "strong multicollinearity or other numerical problems.\n",
       "\"\"\""
      ]
     },
     "execution_count": 442,
     "metadata": {},
     "output_type": "execute_result"
    }
   ],
   "source": [
    "fit = ols('Price ~ Rooms + Car + Types + Distance + Propertycount', data=df).fit() \n",
    "fit.summary()"
   ]
  },
  {
   "cell_type": "markdown",
   "metadata": {},
   "source": [
    "Как можно заметить, Omnibus и Jaque-Bera тесты свидетельствуют о том что ни в одной модели не соблюдается нормальное распределенеие остатков."
   ]
  }
 ],
 "metadata": {
  "kernelspec": {
   "display_name": "Python 3",
   "language": "python",
   "name": "python3"
  },
  "language_info": {
   "codemirror_mode": {
    "name": "ipython",
    "version": 3
   },
   "file_extension": ".py",
   "mimetype": "text/x-python",
   "name": "python",
   "nbconvert_exporter": "python",
   "pygments_lexer": "ipython3",
   "version": "3.8.5"
  }
 },
 "nbformat": 4,
 "nbformat_minor": 4
}
