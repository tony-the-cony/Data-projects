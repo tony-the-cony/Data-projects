{
 "cells": [
  {
   "cell_type": "code",
   "execution_count": 1,
   "metadata": {},
   "outputs": [],
   "source": [
    "import warnings\n",
    "warnings.simplefilter('ignore')\n",
    "import pandas as pd\n",
    "import numpy as np\n",
    "import seaborn as sns\n",
    "import matplotlib.pyplot as plt"
   ]
  },
  {
   "cell_type": "code",
   "execution_count": 2,
   "metadata": {},
   "outputs": [],
   "source": [
    "df_profiles = pd.read_csv(\"C:\\TEMPproject\\Projecty\\okcupid_profiles.csv\") "
   ]
  },
  {
   "cell_type": "code",
   "execution_count": 60,
   "metadata": {
    "scrolled": false
   },
   "outputs": [
    {
     "data": {
      "text/html": [
       "<div>\n",
       "<style scoped>\n",
       "    .dataframe tbody tr th:only-of-type {\n",
       "        vertical-align: middle;\n",
       "    }\n",
       "\n",
       "    .dataframe tbody tr th {\n",
       "        vertical-align: top;\n",
       "    }\n",
       "\n",
       "    .dataframe thead th {\n",
       "        text-align: right;\n",
       "    }\n",
       "</style>\n",
       "<table border=\"1\" class=\"dataframe\">\n",
       "  <thead>\n",
       "    <tr style=\"text-align: right;\">\n",
       "      <th></th>\n",
       "      <th>age</th>\n",
       "      <th>status</th>\n",
       "      <th>sex</th>\n",
       "      <th>orientation</th>\n",
       "      <th>body_type</th>\n",
       "      <th>diet</th>\n",
       "      <th>drinks</th>\n",
       "      <th>drugs</th>\n",
       "      <th>education</th>\n",
       "      <th>ethnicity</th>\n",
       "      <th>...</th>\n",
       "      <th>essay0</th>\n",
       "      <th>essay1</th>\n",
       "      <th>essay2</th>\n",
       "      <th>essay3</th>\n",
       "      <th>essay4</th>\n",
       "      <th>essay5</th>\n",
       "      <th>essay6</th>\n",
       "      <th>essay7</th>\n",
       "      <th>essay8</th>\n",
       "      <th>essay9</th>\n",
       "    </tr>\n",
       "  </thead>\n",
       "  <tbody>\n",
       "    <tr>\n",
       "      <th>0</th>\n",
       "      <td>22</td>\n",
       "      <td>single</td>\n",
       "      <td>m</td>\n",
       "      <td>straight</td>\n",
       "      <td>a little extra</td>\n",
       "      <td>strictly anything</td>\n",
       "      <td>socially</td>\n",
       "      <td>never</td>\n",
       "      <td>working on college/university</td>\n",
       "      <td>asian, white</td>\n",
       "      <td>...</td>\n",
       "      <td>about me:  i would love to think that i was so...</td>\n",
       "      <td>currently working as an international agent fo...</td>\n",
       "      <td>making people laugh. ranting about a good salt...</td>\n",
       "      <td>the way i look. i am a six foot half asian, ha...</td>\n",
       "      <td>books: absurdistan, the republic, of mice and ...</td>\n",
       "      <td>food. water. cell phone. shelter.</td>\n",
       "      <td>duality and humorous things</td>\n",
       "      <td>trying to find someone to hang out with. i am ...</td>\n",
       "      <td>i am new to california and looking for someone...</td>\n",
       "      <td>you want to be swept off your feet! you are ti...</td>\n",
       "    </tr>\n",
       "  </tbody>\n",
       "</table>\n",
       "<p>1 rows × 31 columns</p>\n",
       "</div>"
      ],
      "text/plain": [
       "   age  status sex orientation       body_type               diet    drinks  \\\n",
       "0   22  single   m    straight  a little extra  strictly anything  socially   \n",
       "\n",
       "   drugs                      education     ethnicity  ...  \\\n",
       "0  never  working on college/university  asian, white  ...   \n",
       "\n",
       "                                              essay0  \\\n",
       "0  about me:  i would love to think that i was so...   \n",
       "\n",
       "                                              essay1  \\\n",
       "0  currently working as an international agent fo...   \n",
       "\n",
       "                                              essay2  \\\n",
       "0  making people laugh. ranting about a good salt...   \n",
       "\n",
       "                                              essay3  \\\n",
       "0  the way i look. i am a six foot half asian, ha...   \n",
       "\n",
       "                                              essay4  \\\n",
       "0  books: absurdistan, the republic, of mice and ...   \n",
       "\n",
       "                              essay5                       essay6  \\\n",
       "0  food. water. cell phone. shelter.  duality and humorous things   \n",
       "\n",
       "                                              essay7  \\\n",
       "0  trying to find someone to hang out with. i am ...   \n",
       "\n",
       "                                              essay8  \\\n",
       "0  i am new to california and looking for someone...   \n",
       "\n",
       "                                              essay9  \n",
       "0  you want to be swept off your feet! you are ti...  \n",
       "\n",
       "[1 rows x 31 columns]"
      ]
     },
     "execution_count": 60,
     "metadata": {},
     "output_type": "execute_result"
    }
   ],
   "source": [
    "df_profiles.head(1)"
   ]
  },
  {
   "cell_type": "code",
   "execution_count": null,
   "metadata": {},
   "outputs": [],
   "source": [
    "for col in df_profiles.columns: \n",
    "    print(col)\n",
    "    "
   ]
  },
  {
   "cell_type": "code",
   "execution_count": null,
   "metadata": {},
   "outputs": [],
   "source": []
  },
  {
   "cell_type": "code",
   "execution_count": 6,
   "metadata": {},
   "outputs": [
    {
     "name": "stdout",
     "output_type": "stream",
     "text": [
      "age.median =  30.0\n",
      "age.mean =  32.3402895939679\n",
      "age.std =  9.452779096971224\n"
     ]
    }
   ],
   "source": [
    "print('age.median = ', df_profiles['age'].median())\n",
    "print('age.mean = ', df_profiles['age'].mean())\n",
    "print('age.std = ', df_profiles['age'].std())"
   ]
  },
  {
   "cell_type": "code",
   "execution_count": 7,
   "metadata": {},
   "outputs": [
    {
     "name": "stdout",
     "output_type": "stream",
     "text": [
      "height.median =  68.0\n",
      "height.mean =  68.29528051649066\n",
      "height.std =  3.994803134655344\n",
      "\n",
      "*in feet\n"
     ]
    }
   ],
   "source": [
    "print('height.median = ', df_profiles['height'].median())\n",
    "print('height.mean = ', df_profiles['height'].mean())\n",
    "print('height.std = ', df_profiles['height'].std())\n",
    "print('\\n*in feet')"
   ]
  },
  {
   "cell_type": "code",
   "execution_count": 14,
   "metadata": {},
   "outputs": [],
   "source": [
    "income_stated = df_profiles['income'] != -1"
   ]
  },
  {
   "cell_type": "code",
   "execution_count": 15,
   "metadata": {},
   "outputs": [
    {
     "name": "stdout",
     "output_type": "stream",
     "text": [
      "raw data on yearly income looks like this:\n",
      "\n",
      "income.median =  50000.0\n",
      "income.mean =  104394.99304589708\n",
      "income.std =  201433.5283072594\n",
      "\n",
      "*for those who stated their income\n"
     ]
    }
   ],
   "source": [
    "print('raw data on yearly income looks like this:\\n')\n",
    "\n",
    "print('income.median = ', df_profiles.loc[income_stated, 'income'].median())\n",
    "print('income.mean = ', df_profiles.loc[income_stated, 'income'].mean())\n",
    "print('income.std = ', df_profiles.loc[income_stated, 'income'].std())\n",
    "print('\\n*for those who stated their income')"
   ]
  },
  {
   "cell_type": "code",
   "execution_count": 13,
   "metadata": {},
   "outputs": [],
   "source": [
    "income_upper_bound = df_profiles['income'] < 400000 \n",
    "income_lower_bound = df_profiles['income'] >= 0"
   ]
  },
  {
   "cell_type": "code",
   "execution_count": 16,
   "metadata": {},
   "outputs": [
    {
     "name": "stdout",
     "output_type": "stream",
     "text": [
      "however, I find the possibility of yearly\n",
      "income of more than $400000 questionable,\n",
      "so I decided to put some restrictions to it:\n",
      "\n",
      "income.median =  50000.0\n",
      "income.mean =  59987.19707361683\n",
      "income.std =  42516.20185004863\n"
     ]
    }
   ],
   "source": [
    "print('''however, I find the possibility of yearly\n",
    "income of more than $400000 questionable,\n",
    "so I decided to put some restrictions to it:\\n''')\n",
    "\n",
    "print('income.median = ', df_profiles.loc[income_upper_bound & income_lower_bound, 'income'].median())\n",
    "print('income.mean = ', df_profiles.loc[income_upper_bound & income_lower_bound, 'income'].mean())\n",
    "print('income.std = ', df_profiles.loc[income_upper_bound & income_lower_bound, 'income'].std())"
   ]
  },
  {
   "cell_type": "code",
   "execution_count": 56,
   "metadata": {},
   "outputs": [
    {
     "data": {
      "text/plain": [
       "<seaborn.axisgrid.FacetGrid at 0x2b79a508640>"
      ]
     },
     "execution_count": 56,
     "metadata": {},
     "output_type": "execute_result"
    },
    {
     "data": {
      "image/png": "[encoded data removed]",
      "text/plain": [
       "<Figure size 360x360 with 1 Axes>"
      ]
     },
     "metadata": {
      "needs_background": "light"
     },
     "output_type": "display_data"
    }
   ],
   "source": [
    "sns.displot(df_profiles, x = 'age', kind = 'kde')"
   ]
  },
  {
   "cell_type": "code",
   "execution_count": 57,
   "metadata": {
    "scrolled": false
   },
   "outputs": [
    {
     "data": {
      "text/plain": [
       "<seaborn.axisgrid.FacetGrid at 0x2b79aa688e0>"
      ]
     },
     "execution_count": 57,
     "metadata": {},
     "output_type": "execute_result"
    },
    {
     "data": {
      "image/png": "[encoded data removed]",
      "text/plain": [
       "<Figure size 360x360 with 1 Axes>"
      ]
     },
     "metadata": {
      "needs_background": "light"
     },
     "output_type": "display_data"
    }
   ],
   "source": [
    "sns.displot(df_profiles, x = 'height', kind = 'kde')"
   ]
  },
  {
   "cell_type": "code",
   "execution_count": 58,
   "metadata": {
    "scrolled": false
   },
   "outputs": [
    {
     "name": "stdout",
     "output_type": "stream",
     "text": [
      "raw data on yearly income looks like this:\n"
     ]
    },
    {
     "data": {
      "text/plain": [
       "<seaborn.axisgrid.FacetGrid at 0x2b79aa6b340>"
      ]
     },
     "execution_count": 58,
     "metadata": {},
     "output_type": "execute_result"
    },
    {
     "data": {
      "image/png": "[encoded data removed]",
      "text/plain": [
       "<Figure size 360x360 with 1 Axes>"
      ]
     },
     "metadata": {
      "needs_background": "light"
     },
     "output_type": "display_data"
    }
   ],
   "source": [
    "print('raw data on yearly income looks like this:')\n",
    "sns.displot(df_profiles, x = 'income', kind = 'kde', cut = 0)"
   ]
  },
  {
   "cell_type": "code",
   "execution_count": 59,
   "metadata": {
    "scrolled": false
   },
   "outputs": [
    {
     "name": "stdout",
     "output_type": "stream",
     "text": [
      "\n",
      "however, I find the possibility of yearly \n",
      "income of more than $400000 questionable,\n",
      "so I decided to put some restrictions to it:\n"
     ]
    },
    {
     "data": {
      "text/plain": [
       "<seaborn.axisgrid.FacetGrid at 0x2b79a806eb0>"
      ]
     },
     "execution_count": 59,
     "metadata": {},
     "output_type": "execute_result"
    },
    {
     "data": {
      "image/png": "[encoded data removed]",
      "text/plain": [
       "<Figure size 360x360 with 1 Axes>"
      ]
     },
     "metadata": {
      "needs_background": "light"
     },
     "output_type": "display_data"
    }
   ],
   "source": [
    "print('''\\nhowever, I find the possibility of yearly \n",
    "income of more than $400000 questionable,\n",
    "so I decided to put some restrictions to it:''')\n",
    "sns.displot(df_profiles.loc[income_upper_bound & income_lower_bound], x = 'income', kind = 'kde')"
   ]
  },
  {
   "cell_type": "code",
   "execution_count": 10,
   "metadata": {},
   "outputs": [
    {
     "name": "stdout",
     "output_type": "stream",
     "text": [
      "How does the income differ depending on orientation:\n",
      "\n",
      "avg income gay = 46546.39175257732\n",
      "avg income straight = 62464.01001460463\n"
     ]
    }
   ],
   "source": [
    "print('''How does the income differ depending on orientation:\\n''')\n",
    "\n",
    "person_gay = df_profiles['orientation'] == 'gay'\n",
    "              \n",
    "person_straight =  df_profiles['orientation'] == 'straight'\n",
    "\n",
    "\n",
    "print('avg income gay =', df_profiles.loc[person_gay & income_upper_bound & income_lower_bound, 'income'].mean())\n",
    "print('avg income straight =', df_profiles.loc[person_straight & income_upper_bound & income_lower_bound, 'income'].mean())"
   ]
  },
  {
   "cell_type": "code",
   "execution_count": 7,
   "metadata": {},
   "outputs": [
    {
     "name": "stdout",
     "output_type": "stream",
     "text": [
      "How does the height differ depending on sex:\n",
      "\n",
      "avg height male = 70.4434923381807\n",
      "avg height female = 65.1038729474208\n"
     ]
    }
   ],
   "source": [
    "print('''How does the height differ depending on sex:\\n''')\n",
    "\n",
    "person_male = df_profiles['sex'] == 'm'\n",
    "              \n",
    "person_female =  df_profiles['sex'] == 'f'\n",
    "\n",
    "\n",
    "print('avg height male =', df_profiles.loc[person_male, 'height'].mean())\n",
    "print('avg height female =', df_profiles.loc[person_female, 'height'].mean())"
   ]
  },
  {
   "cell_type": "markdown",
   "metadata": {},
   "source": [
    "In this project I decided to have a glimpse at the data of almost 60 000 anonymous users in OkCupid - one of the top 5 most popular dating apps in the US. I decided to focus the research on three numerical fields of the dataset: age, height, and income.\n",
    "Minding the data we can evaluate the average user of OkCupid: a person in their early thirties (32 as the mean value states it), with an income fluctuating around $60 000, 5 feet 8 inches tall.\n",
    "However, I find the income data hihgly doubtable, as it was provided by users and there may be some significant missevaluations due to that.\n",
    "\n",
    "Speaking of income, I had a chance to estmate it's average value depending on one's orientation. As it turns out, members of the LGBTQ community make on average $16 000 a year less. Or they're more frank about their wages, we'll never find out. \n",
    "Finally, I investigated how tall the users of the app were depending on their sex. Expectedly, females are shorter on average, however, not significantly - by only 5 inches."
   ]
  },
  {
   "cell_type": "code",
   "execution_count": 96,
   "metadata": {},
   "outputs": [
    {
     "data": {
      "text/plain": [
       "<seaborn.axisgrid.FacetGrid at 0x2b7a5283cd0>"
      ]
     },
     "execution_count": 96,
     "metadata": {},
     "output_type": "execute_result"
    },
    {
     "data": {
      "image/png": "[encoded data removed]",
      "text/plain": [
       "<Figure size 360x360 with 1 Axes>"
      ]
     },
     "metadata": {
      "needs_background": "light"
     },
     "output_type": "display_data"
    }
   ],
   "source": [
    "sns.set_palette(\"tab10\")\n",
    "sns.displot(df_profiles, x='height', y='age', binwidth=(1,1))"
   ]
  },
  {
   "cell_type": "code",
   "execution_count": 63,
   "metadata": {},
   "outputs": [],
   "source": []
  },
  {
   "cell_type": "code",
   "execution_count": 81,
   "metadata": {
    "scrolled": true
   },
   "outputs": [
    {
     "data": {
      "text/plain": [
       "<AxesSubplot:xlabel='smokes', ylabel='income'>"
      ]
     },
     "execution_count": 81,
     "metadata": {},
     "output_type": "execute_result"
    },
    {
     "data": {
      "image/png": "[encoded data removed]",
      "text/plain": [
       "<Figure size 432x288 with 1 Axes>"
      ]
     },
     "metadata": {
      "needs_background": "light"
     },
     "output_type": "display_data"
    }
   ],
   "source": [
    "sns.set_palette(\"magma_r\", n_colors = 5)\n",
    "sns.barplot(x=\"smokes\", y=\"income\", data=df_profiles.loc[income_upper_bound & income_lower_bound])"
   ]
  },
  {
   "cell_type": "code",
   "execution_count": 92,
   "metadata": {},
   "outputs": [
    {
     "data": {
      "text/plain": [
       "<AxesSubplot:xlabel='orientation', ylabel='income'>"
      ]
     },
     "execution_count": 92,
     "metadata": {},
     "output_type": "execute_result"
    },
    {
     "data": {
      "image/png": "[encoded data removed]",
      "text/plain": [
       "<Figure size 432x288 with 1 Axes>"
      ]
     },
     "metadata": {
      "needs_background": "light"
     },
     "output_type": "display_data"
    }
   ],
   "source": [
    "sns.set_palette(\"magma\", n_colors=3)\n",
    "sns.barplot(x=\"orientation\", y=\"income\", data=df_profiles.loc[income_upper_bound & income_lower_bound])"
   ]
  },
  {
   "cell_type": "code",
   "execution_count": 89,
   "metadata": {},
   "outputs": [
    {
     "data": {
      "text/plain": [
       "<AxesSubplot:xlabel='sex', ylabel='income'>"
      ]
     },
     "execution_count": 89,
     "metadata": {},
     "output_type": "execute_result"
    },
    {
     "data": {
      "image/png": "[encoded data removed]",
      "text/plain": [
       "<Figure size 432x288 with 1 Axes>"
      ]
     },
     "metadata": {
      "needs_background": "light"
     },
     "output_type": "display_data"
    }
   ],
   "source": [
    "sns.set_palette(\"magma\", n_colors = 3)\n",
    "sns.barplot(x=\"sex\", y=\"income\", data=df_profiles.loc[income_upper_bound & income_lower_bound])"
   ]
  },
  {
   "cell_type": "code",
   "execution_count": 74,
   "metadata": {},
   "outputs": [
    {
     "data": {
      "text/plain": [
       "<AxesSubplot:xlabel='height', ylabel='body_type'>"
      ]
     },
     "execution_count": 74,
     "metadata": {},
     "output_type": "execute_result"
    },
    {
     "data": {
      "image/png": "[encoded data removed]",
      "text/plain": [
       "<Figure size 432x288 with 1 Axes>"
      ]
     },
     "metadata": {
      "needs_background": "light"
     },
     "output_type": "display_data"
    }
   ],
   "source": [
    "sns.set_palette(\"magma_r\", n_colors = 12)\n",
    "sns.barplot(x=\"height\", y=\"body_type\", data=df_profiles.loc[income_upper_bound & income_lower_bound])"
   ]
  },
  {
   "cell_type": "code",
   "execution_count": 1,
   "metadata": {},
   "outputs": [
    {
     "name": "stdout",
     "output_type": "stream",
     "text": [
      "hi\n"
     ]
    }
   ],
   "source": [
    "print('hi')"
   ]
  }
 ],
 "metadata": {
  "kernelspec": {
   "display_name": "Python 3",
   "language": "python",
   "name": "python3"
  },
  "language_info": {
   "codemirror_mode": {
    "name": "ipython",
    "version": 3
   },
   "file_extension": ".py",
   "mimetype": "text/x-python",
   "name": "python",
   "nbconvert_exporter": "python",
   "pygments_lexer": "ipython3",
   "version": "3.8.5"
  }
 },
 "nbformat": 4,
 "nbformat_minor": 4
}
